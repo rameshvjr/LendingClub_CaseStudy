{
 "cells": [
  {
   "cell_type": "markdown",
   "id": "0f5369ab",
   "metadata": {},
   "source": [
    "# <u><font color=blue>Lending Club Case Study</u> \n",
    "<b><u>ML61 - Ramesh Velivela"
   ]
  },
  {
   "cell_type": "markdown",
   "id": "dea8db48",
   "metadata": {},
   "source": [
    "## <font color=blue>Introduction"
   ]
  },
  {
   "cell_type": "markdown",
   "id": "be2b85b0",
   "metadata": {},
   "source": [
    "We work for a <b> <font color=blue>Consumer Finance company</font></b> which specializes in lending various types of loans to urban customers. <b><u>Company has to make a decision for loan approval based on the applicant’s risk profile</u></b>. \n",
    "\n",
    "<font color=blue><b><u>Business Objective:</font></u></b><p>Company is looking for <b><u>detailed insights on various dimensions / driving factors causing the loan default (strong indicators of defaulters), which they can utilize during portfolio planning and risk assessment by their underwriters<u></b>."
   ]
  },
  {
   "cell_type": "markdown",
   "id": "ac7387e5",
   "metadata": {},
   "source": [
    "## <font color=blue>Import all the required python libraries"
   ]
  },
  {
   "cell_type": "code",
   "execution_count": 1,
   "id": "71e02846",
   "metadata": {},
   "outputs": [],
   "source": [
    "import numpy as np\n",
    "import pandas as pd\n",
    "\n",
    "import seaborn as sns\n",
    "import matplotlib.pyplot as plt\n",
    "\n",
    "import warnings\n",
    "warnings.filterwarnings('ignore')\n",
    "\n",
    "pd.reset_option(\"all\")\n",
    "#pd.set_option('display.max_columns', 200)\n",
    "#pd.set_option('display.width', 400)"
   ]
  },
  {
   "cell_type": "markdown",
   "id": "0e5b87d3",
   "metadata": {},
   "source": [
    "### <font color=blue>Load the loan.csv file"
   ]
  },
  {
   "cell_type": "code",
   "execution_count": 15,
   "id": "c1365976",
   "metadata": {},
   "outputs": [],
   "source": [
    "#Load loan dataset from its csv file\n",
    "loan=pd.read_csv(r\"E:\\Ramesh\\UpGradCaseStudies\\LendingClub\\loan.csv\")"
   ]
  },
  {
   "cell_type": "markdown",
   "id": "13c43368",
   "metadata": {},
   "source": [
    "### <font color=blue>Know your data & its dimensions / few high level characteristics"
   ]
  },
  {
   "cell_type": "code",
   "execution_count": 16,
   "id": "c10a851b",
   "metadata": {},
   "outputs": [
    {
     "data": {
      "text/html": [
       "<div>\n",
       "<style scoped>\n",
       "    .dataframe tbody tr th:only-of-type {\n",
       "        vertical-align: middle;\n",
       "    }\n",
       "\n",
       "    .dataframe tbody tr th {\n",
       "        vertical-align: top;\n",
       "    }\n",
       "\n",
       "    .dataframe thead th {\n",
       "        text-align: right;\n",
       "    }\n",
       "</style>\n",
       "<table border=\"1\" class=\"dataframe\">\n",
       "  <thead>\n",
       "    <tr style=\"text-align: right;\">\n",
       "      <th></th>\n",
       "      <th>id</th>\n",
       "      <th>member_id</th>\n",
       "      <th>loan_amnt</th>\n",
       "      <th>funded_amnt</th>\n",
       "      <th>funded_amnt_inv</th>\n",
       "      <th>term</th>\n",
       "      <th>int_rate</th>\n",
       "      <th>installment</th>\n",
       "      <th>grade</th>\n",
       "      <th>sub_grade</th>\n",
       "      <th>...</th>\n",
       "      <th>num_tl_90g_dpd_24m</th>\n",
       "      <th>num_tl_op_past_12m</th>\n",
       "      <th>pct_tl_nvr_dlq</th>\n",
       "      <th>percent_bc_gt_75</th>\n",
       "      <th>pub_rec_bankruptcies</th>\n",
       "      <th>tax_liens</th>\n",
       "      <th>tot_hi_cred_lim</th>\n",
       "      <th>total_bal_ex_mort</th>\n",
       "      <th>total_bc_limit</th>\n",
       "      <th>total_il_high_credit_limit</th>\n",
       "    </tr>\n",
       "  </thead>\n",
       "  <tbody>\n",
       "    <tr>\n",
       "      <th>0</th>\n",
       "      <td>1077501</td>\n",
       "      <td>1296599</td>\n",
       "      <td>5000</td>\n",
       "      <td>5000</td>\n",
       "      <td>4975.0</td>\n",
       "      <td>36 months</td>\n",
       "      <td>10.65%</td>\n",
       "      <td>162.87</td>\n",
       "      <td>B</td>\n",
       "      <td>B2</td>\n",
       "      <td>...</td>\n",
       "      <td>NaN</td>\n",
       "      <td>NaN</td>\n",
       "      <td>NaN</td>\n",
       "      <td>NaN</td>\n",
       "      <td>0.0</td>\n",
       "      <td>0.0</td>\n",
       "      <td>NaN</td>\n",
       "      <td>NaN</td>\n",
       "      <td>NaN</td>\n",
       "      <td>NaN</td>\n",
       "    </tr>\n",
       "    <tr>\n",
       "      <th>1</th>\n",
       "      <td>1077430</td>\n",
       "      <td>1314167</td>\n",
       "      <td>2500</td>\n",
       "      <td>2500</td>\n",
       "      <td>2500.0</td>\n",
       "      <td>60 months</td>\n",
       "      <td>15.27%</td>\n",
       "      <td>59.83</td>\n",
       "      <td>C</td>\n",
       "      <td>C4</td>\n",
       "      <td>...</td>\n",
       "      <td>NaN</td>\n",
       "      <td>NaN</td>\n",
       "      <td>NaN</td>\n",
       "      <td>NaN</td>\n",
       "      <td>0.0</td>\n",
       "      <td>0.0</td>\n",
       "      <td>NaN</td>\n",
       "      <td>NaN</td>\n",
       "      <td>NaN</td>\n",
       "      <td>NaN</td>\n",
       "    </tr>\n",
       "    <tr>\n",
       "      <th>2</th>\n",
       "      <td>1077175</td>\n",
       "      <td>1313524</td>\n",
       "      <td>2400</td>\n",
       "      <td>2400</td>\n",
       "      <td>2400.0</td>\n",
       "      <td>36 months</td>\n",
       "      <td>15.96%</td>\n",
       "      <td>84.33</td>\n",
       "      <td>C</td>\n",
       "      <td>C5</td>\n",
       "      <td>...</td>\n",
       "      <td>NaN</td>\n",
       "      <td>NaN</td>\n",
       "      <td>NaN</td>\n",
       "      <td>NaN</td>\n",
       "      <td>0.0</td>\n",
       "      <td>0.0</td>\n",
       "      <td>NaN</td>\n",
       "      <td>NaN</td>\n",
       "      <td>NaN</td>\n",
       "      <td>NaN</td>\n",
       "    </tr>\n",
       "    <tr>\n",
       "      <th>3</th>\n",
       "      <td>1076863</td>\n",
       "      <td>1277178</td>\n",
       "      <td>10000</td>\n",
       "      <td>10000</td>\n",
       "      <td>10000.0</td>\n",
       "      <td>36 months</td>\n",
       "      <td>13.49%</td>\n",
       "      <td>339.31</td>\n",
       "      <td>C</td>\n",
       "      <td>C1</td>\n",
       "      <td>...</td>\n",
       "      <td>NaN</td>\n",
       "      <td>NaN</td>\n",
       "      <td>NaN</td>\n",
       "      <td>NaN</td>\n",
       "      <td>0.0</td>\n",
       "      <td>0.0</td>\n",
       "      <td>NaN</td>\n",
       "      <td>NaN</td>\n",
       "      <td>NaN</td>\n",
       "      <td>NaN</td>\n",
       "    </tr>\n",
       "    <tr>\n",
       "      <th>4</th>\n",
       "      <td>1075358</td>\n",
       "      <td>1311748</td>\n",
       "      <td>3000</td>\n",
       "      <td>3000</td>\n",
       "      <td>3000.0</td>\n",
       "      <td>60 months</td>\n",
       "      <td>12.69%</td>\n",
       "      <td>67.79</td>\n",
       "      <td>B</td>\n",
       "      <td>B5</td>\n",
       "      <td>...</td>\n",
       "      <td>NaN</td>\n",
       "      <td>NaN</td>\n",
       "      <td>NaN</td>\n",
       "      <td>NaN</td>\n",
       "      <td>0.0</td>\n",
       "      <td>0.0</td>\n",
       "      <td>NaN</td>\n",
       "      <td>NaN</td>\n",
       "      <td>NaN</td>\n",
       "      <td>NaN</td>\n",
       "    </tr>\n",
       "  </tbody>\n",
       "</table>\n",
       "<p>5 rows × 111 columns</p>\n",
       "</div>"
      ],
      "text/plain": [
       "        id  member_id  loan_amnt  funded_amnt  funded_amnt_inv        term  \\\n",
       "0  1077501    1296599       5000         5000           4975.0   36 months   \n",
       "1  1077430    1314167       2500         2500           2500.0   60 months   \n",
       "2  1077175    1313524       2400         2400           2400.0   36 months   \n",
       "3  1076863    1277178      10000        10000          10000.0   36 months   \n",
       "4  1075358    1311748       3000         3000           3000.0   60 months   \n",
       "\n",
       "  int_rate  installment grade sub_grade  ... num_tl_90g_dpd_24m  \\\n",
       "0   10.65%       162.87     B        B2  ...                NaN   \n",
       "1   15.27%        59.83     C        C4  ...                NaN   \n",
       "2   15.96%        84.33     C        C5  ...                NaN   \n",
       "3   13.49%       339.31     C        C1  ...                NaN   \n",
       "4   12.69%        67.79     B        B5  ...                NaN   \n",
       "\n",
       "  num_tl_op_past_12m pct_tl_nvr_dlq  percent_bc_gt_75 pub_rec_bankruptcies  \\\n",
       "0                NaN            NaN               NaN                  0.0   \n",
       "1                NaN            NaN               NaN                  0.0   \n",
       "2                NaN            NaN               NaN                  0.0   \n",
       "3                NaN            NaN               NaN                  0.0   \n",
       "4                NaN            NaN               NaN                  0.0   \n",
       "\n",
       "  tax_liens tot_hi_cred_lim total_bal_ex_mort total_bc_limit  \\\n",
       "0       0.0             NaN               NaN            NaN   \n",
       "1       0.0             NaN               NaN            NaN   \n",
       "2       0.0             NaN               NaN            NaN   \n",
       "3       0.0             NaN               NaN            NaN   \n",
       "4       0.0             NaN               NaN            NaN   \n",
       "\n",
       "  total_il_high_credit_limit  \n",
       "0                        NaN  \n",
       "1                        NaN  \n",
       "2                        NaN  \n",
       "3                        NaN  \n",
       "4                        NaN  \n",
       "\n",
       "[5 rows x 111 columns]"
      ]
     },
     "execution_count": 16,
     "metadata": {},
     "output_type": "execute_result"
    }
   ],
   "source": [
    "loan.head()"
   ]
  },
  {
   "cell_type": "code",
   "execution_count": 17,
   "id": "51d9ed1f",
   "metadata": {},
   "outputs": [
    {
     "name": "stdout",
     "output_type": "stream",
     "text": [
      "<class 'pandas.core.frame.DataFrame'>\n",
      "RangeIndex: 39717 entries, 0 to 39716\n",
      "Columns: 111 entries, id to total_il_high_credit_limit\n",
      "dtypes: float64(74), int64(13), object(24)\n",
      "memory usage: 33.6+ MB\n"
     ]
    }
   ],
   "source": [
    "loan.info()"
   ]
  },
  {
   "cell_type": "code",
   "execution_count": 5,
   "id": "7684bde1",
   "metadata": {},
   "outputs": [
    {
     "data": {
      "text/plain": [
       "<bound method DataFrame.info of             id  member_id  loan_amnt  funded_amnt  funded_amnt_inv  \\\n",
       "0      1077501    1296599       5000         5000           4975.0   \n",
       "1      1077430    1314167       2500         2500           2500.0   \n",
       "2      1077175    1313524       2400         2400           2400.0   \n",
       "3      1076863    1277178      10000        10000          10000.0   \n",
       "4      1075358    1311748       3000         3000           3000.0   \n",
       "...        ...        ...        ...          ...              ...   \n",
       "39712    92187      92174       2500         2500           1075.0   \n",
       "39713    90665      90607       8500         8500            875.0   \n",
       "39714    90395      90390       5000         5000           1325.0   \n",
       "39715    90376      89243       5000         5000            650.0   \n",
       "39716    87023      86999       7500         7500            800.0   \n",
       "\n",
       "             term int_rate  installment grade sub_grade  ...  \\\n",
       "0       36 months   10.65%       162.87     B        B2  ...   \n",
       "1       60 months   15.27%        59.83     C        C4  ...   \n",
       "2       36 months   15.96%        84.33     C        C5  ...   \n",
       "3       36 months   13.49%       339.31     C        C1  ...   \n",
       "4       60 months   12.69%        67.79     B        B5  ...   \n",
       "...           ...      ...          ...   ...       ...  ...   \n",
       "39712   36 months    8.07%        78.42     A        A4  ...   \n",
       "39713   36 months   10.28%       275.38     C        C1  ...   \n",
       "39714   36 months    8.07%       156.84     A        A4  ...   \n",
       "39715   36 months    7.43%       155.38     A        A2  ...   \n",
       "39716   36 months   13.75%       255.43     E        E2  ...   \n",
       "\n",
       "      num_tl_90g_dpd_24m num_tl_op_past_12m pct_tl_nvr_dlq  percent_bc_gt_75  \\\n",
       "0                    NaN                NaN            NaN               NaN   \n",
       "1                    NaN                NaN            NaN               NaN   \n",
       "2                    NaN                NaN            NaN               NaN   \n",
       "3                    NaN                NaN            NaN               NaN   \n",
       "4                    NaN                NaN            NaN               NaN   \n",
       "...                  ...                ...            ...               ...   \n",
       "39712                NaN                NaN            NaN               NaN   \n",
       "39713                NaN                NaN            NaN               NaN   \n",
       "39714                NaN                NaN            NaN               NaN   \n",
       "39715                NaN                NaN            NaN               NaN   \n",
       "39716                NaN                NaN            NaN               NaN   \n",
       "\n",
       "      pub_rec_bankruptcies tax_liens tot_hi_cred_lim total_bal_ex_mort  \\\n",
       "0                      0.0       0.0             NaN               NaN   \n",
       "1                      0.0       0.0             NaN               NaN   \n",
       "2                      0.0       0.0             NaN               NaN   \n",
       "3                      0.0       0.0             NaN               NaN   \n",
       "4                      0.0       0.0             NaN               NaN   \n",
       "...                    ...       ...             ...               ...   \n",
       "39712                  NaN       NaN             NaN               NaN   \n",
       "39713                  NaN       NaN             NaN               NaN   \n",
       "39714                  NaN       NaN             NaN               NaN   \n",
       "39715                  NaN       NaN             NaN               NaN   \n",
       "39716                  NaN       NaN             NaN               NaN   \n",
       "\n",
       "      total_bc_limit total_il_high_credit_limit  \n",
       "0                NaN                        NaN  \n",
       "1                NaN                        NaN  \n",
       "2                NaN                        NaN  \n",
       "3                NaN                        NaN  \n",
       "4                NaN                        NaN  \n",
       "...              ...                        ...  \n",
       "39712            NaN                        NaN  \n",
       "39713            NaN                        NaN  \n",
       "39714            NaN                        NaN  \n",
       "39715            NaN                        NaN  \n",
       "39716            NaN                        NaN  \n",
       "\n",
       "[39717 rows x 111 columns]>"
      ]
     },
     "execution_count": 5,
     "metadata": {},
     "output_type": "execute_result"
    }
   ],
   "source": [
    "loan.info"
   ]
  },
  {
   "cell_type": "code",
   "execution_count": 18,
   "id": "afe41a1c",
   "metadata": {},
   "outputs": [
    {
     "data": {
      "text/html": [
       "<div>\n",
       "<style scoped>\n",
       "    .dataframe tbody tr th:only-of-type {\n",
       "        vertical-align: middle;\n",
       "    }\n",
       "\n",
       "    .dataframe tbody tr th {\n",
       "        vertical-align: top;\n",
       "    }\n",
       "\n",
       "    .dataframe thead th {\n",
       "        text-align: right;\n",
       "    }\n",
       "</style>\n",
       "<table border=\"1\" class=\"dataframe\">\n",
       "  <thead>\n",
       "    <tr style=\"text-align: right;\">\n",
       "      <th></th>\n",
       "      <th>id</th>\n",
       "      <th>member_id</th>\n",
       "      <th>loan_amnt</th>\n",
       "      <th>funded_amnt</th>\n",
       "      <th>funded_amnt_inv</th>\n",
       "      <th>installment</th>\n",
       "      <th>annual_inc</th>\n",
       "      <th>dti</th>\n",
       "      <th>delinq_2yrs</th>\n",
       "      <th>inq_last_6mths</th>\n",
       "      <th>...</th>\n",
       "      <th>num_tl_90g_dpd_24m</th>\n",
       "      <th>num_tl_op_past_12m</th>\n",
       "      <th>pct_tl_nvr_dlq</th>\n",
       "      <th>percent_bc_gt_75</th>\n",
       "      <th>pub_rec_bankruptcies</th>\n",
       "      <th>tax_liens</th>\n",
       "      <th>tot_hi_cred_lim</th>\n",
       "      <th>total_bal_ex_mort</th>\n",
       "      <th>total_bc_limit</th>\n",
       "      <th>total_il_high_credit_limit</th>\n",
       "    </tr>\n",
       "  </thead>\n",
       "  <tbody>\n",
       "    <tr>\n",
       "      <th>count</th>\n",
       "      <td>3.971700e+04</td>\n",
       "      <td>3.971700e+04</td>\n",
       "      <td>39717.000000</td>\n",
       "      <td>39717.000000</td>\n",
       "      <td>39717.000000</td>\n",
       "      <td>39717.000000</td>\n",
       "      <td>3.971700e+04</td>\n",
       "      <td>39717.000000</td>\n",
       "      <td>39717.000000</td>\n",
       "      <td>39717.000000</td>\n",
       "      <td>...</td>\n",
       "      <td>0.0</td>\n",
       "      <td>0.0</td>\n",
       "      <td>0.0</td>\n",
       "      <td>0.0</td>\n",
       "      <td>39020.000000</td>\n",
       "      <td>39678.0</td>\n",
       "      <td>0.0</td>\n",
       "      <td>0.0</td>\n",
       "      <td>0.0</td>\n",
       "      <td>0.0</td>\n",
       "    </tr>\n",
       "    <tr>\n",
       "      <th>mean</th>\n",
       "      <td>6.831319e+05</td>\n",
       "      <td>8.504636e+05</td>\n",
       "      <td>11219.443815</td>\n",
       "      <td>10947.713196</td>\n",
       "      <td>10397.448868</td>\n",
       "      <td>324.561922</td>\n",
       "      <td>6.896893e+04</td>\n",
       "      <td>13.315130</td>\n",
       "      <td>0.146512</td>\n",
       "      <td>0.869200</td>\n",
       "      <td>...</td>\n",
       "      <td>NaN</td>\n",
       "      <td>NaN</td>\n",
       "      <td>NaN</td>\n",
       "      <td>NaN</td>\n",
       "      <td>0.043260</td>\n",
       "      <td>0.0</td>\n",
       "      <td>NaN</td>\n",
       "      <td>NaN</td>\n",
       "      <td>NaN</td>\n",
       "      <td>NaN</td>\n",
       "    </tr>\n",
       "    <tr>\n",
       "      <th>std</th>\n",
       "      <td>2.106941e+05</td>\n",
       "      <td>2.656783e+05</td>\n",
       "      <td>7456.670694</td>\n",
       "      <td>7187.238670</td>\n",
       "      <td>7128.450439</td>\n",
       "      <td>208.874874</td>\n",
       "      <td>6.379377e+04</td>\n",
       "      <td>6.678594</td>\n",
       "      <td>0.491812</td>\n",
       "      <td>1.070219</td>\n",
       "      <td>...</td>\n",
       "      <td>NaN</td>\n",
       "      <td>NaN</td>\n",
       "      <td>NaN</td>\n",
       "      <td>NaN</td>\n",
       "      <td>0.204324</td>\n",
       "      <td>0.0</td>\n",
       "      <td>NaN</td>\n",
       "      <td>NaN</td>\n",
       "      <td>NaN</td>\n",
       "      <td>NaN</td>\n",
       "    </tr>\n",
       "    <tr>\n",
       "      <th>min</th>\n",
       "      <td>5.473400e+04</td>\n",
       "      <td>7.069900e+04</td>\n",
       "      <td>500.000000</td>\n",
       "      <td>500.000000</td>\n",
       "      <td>0.000000</td>\n",
       "      <td>15.690000</td>\n",
       "      <td>4.000000e+03</td>\n",
       "      <td>0.000000</td>\n",
       "      <td>0.000000</td>\n",
       "      <td>0.000000</td>\n",
       "      <td>...</td>\n",
       "      <td>NaN</td>\n",
       "      <td>NaN</td>\n",
       "      <td>NaN</td>\n",
       "      <td>NaN</td>\n",
       "      <td>0.000000</td>\n",
       "      <td>0.0</td>\n",
       "      <td>NaN</td>\n",
       "      <td>NaN</td>\n",
       "      <td>NaN</td>\n",
       "      <td>NaN</td>\n",
       "    </tr>\n",
       "    <tr>\n",
       "      <th>25%</th>\n",
       "      <td>5.162210e+05</td>\n",
       "      <td>6.667800e+05</td>\n",
       "      <td>5500.000000</td>\n",
       "      <td>5400.000000</td>\n",
       "      <td>5000.000000</td>\n",
       "      <td>167.020000</td>\n",
       "      <td>4.040400e+04</td>\n",
       "      <td>8.170000</td>\n",
       "      <td>0.000000</td>\n",
       "      <td>0.000000</td>\n",
       "      <td>...</td>\n",
       "      <td>NaN</td>\n",
       "      <td>NaN</td>\n",
       "      <td>NaN</td>\n",
       "      <td>NaN</td>\n",
       "      <td>0.000000</td>\n",
       "      <td>0.0</td>\n",
       "      <td>NaN</td>\n",
       "      <td>NaN</td>\n",
       "      <td>NaN</td>\n",
       "      <td>NaN</td>\n",
       "    </tr>\n",
       "    <tr>\n",
       "      <th>50%</th>\n",
       "      <td>6.656650e+05</td>\n",
       "      <td>8.508120e+05</td>\n",
       "      <td>10000.000000</td>\n",
       "      <td>9600.000000</td>\n",
       "      <td>8975.000000</td>\n",
       "      <td>280.220000</td>\n",
       "      <td>5.900000e+04</td>\n",
       "      <td>13.400000</td>\n",
       "      <td>0.000000</td>\n",
       "      <td>1.000000</td>\n",
       "      <td>...</td>\n",
       "      <td>NaN</td>\n",
       "      <td>NaN</td>\n",
       "      <td>NaN</td>\n",
       "      <td>NaN</td>\n",
       "      <td>0.000000</td>\n",
       "      <td>0.0</td>\n",
       "      <td>NaN</td>\n",
       "      <td>NaN</td>\n",
       "      <td>NaN</td>\n",
       "      <td>NaN</td>\n",
       "    </tr>\n",
       "    <tr>\n",
       "      <th>75%</th>\n",
       "      <td>8.377550e+05</td>\n",
       "      <td>1.047339e+06</td>\n",
       "      <td>15000.000000</td>\n",
       "      <td>15000.000000</td>\n",
       "      <td>14400.000000</td>\n",
       "      <td>430.780000</td>\n",
       "      <td>8.230000e+04</td>\n",
       "      <td>18.600000</td>\n",
       "      <td>0.000000</td>\n",
       "      <td>1.000000</td>\n",
       "      <td>...</td>\n",
       "      <td>NaN</td>\n",
       "      <td>NaN</td>\n",
       "      <td>NaN</td>\n",
       "      <td>NaN</td>\n",
       "      <td>0.000000</td>\n",
       "      <td>0.0</td>\n",
       "      <td>NaN</td>\n",
       "      <td>NaN</td>\n",
       "      <td>NaN</td>\n",
       "      <td>NaN</td>\n",
       "    </tr>\n",
       "    <tr>\n",
       "      <th>max</th>\n",
       "      <td>1.077501e+06</td>\n",
       "      <td>1.314167e+06</td>\n",
       "      <td>35000.000000</td>\n",
       "      <td>35000.000000</td>\n",
       "      <td>35000.000000</td>\n",
       "      <td>1305.190000</td>\n",
       "      <td>6.000000e+06</td>\n",
       "      <td>29.990000</td>\n",
       "      <td>11.000000</td>\n",
       "      <td>8.000000</td>\n",
       "      <td>...</td>\n",
       "      <td>NaN</td>\n",
       "      <td>NaN</td>\n",
       "      <td>NaN</td>\n",
       "      <td>NaN</td>\n",
       "      <td>2.000000</td>\n",
       "      <td>0.0</td>\n",
       "      <td>NaN</td>\n",
       "      <td>NaN</td>\n",
       "      <td>NaN</td>\n",
       "      <td>NaN</td>\n",
       "    </tr>\n",
       "  </tbody>\n",
       "</table>\n",
       "<p>8 rows × 87 columns</p>\n",
       "</div>"
      ],
      "text/plain": [
       "                 id     member_id     loan_amnt   funded_amnt  \\\n",
       "count  3.971700e+04  3.971700e+04  39717.000000  39717.000000   \n",
       "mean   6.831319e+05  8.504636e+05  11219.443815  10947.713196   \n",
       "std    2.106941e+05  2.656783e+05   7456.670694   7187.238670   \n",
       "min    5.473400e+04  7.069900e+04    500.000000    500.000000   \n",
       "25%    5.162210e+05  6.667800e+05   5500.000000   5400.000000   \n",
       "50%    6.656650e+05  8.508120e+05  10000.000000   9600.000000   \n",
       "75%    8.377550e+05  1.047339e+06  15000.000000  15000.000000   \n",
       "max    1.077501e+06  1.314167e+06  35000.000000  35000.000000   \n",
       "\n",
       "       funded_amnt_inv   installment    annual_inc           dti  \\\n",
       "count     39717.000000  39717.000000  3.971700e+04  39717.000000   \n",
       "mean      10397.448868    324.561922  6.896893e+04     13.315130   \n",
       "std        7128.450439    208.874874  6.379377e+04      6.678594   \n",
       "min           0.000000     15.690000  4.000000e+03      0.000000   \n",
       "25%        5000.000000    167.020000  4.040400e+04      8.170000   \n",
       "50%        8975.000000    280.220000  5.900000e+04     13.400000   \n",
       "75%       14400.000000    430.780000  8.230000e+04     18.600000   \n",
       "max       35000.000000   1305.190000  6.000000e+06     29.990000   \n",
       "\n",
       "        delinq_2yrs  inq_last_6mths  ...  num_tl_90g_dpd_24m  \\\n",
       "count  39717.000000    39717.000000  ...                 0.0   \n",
       "mean       0.146512        0.869200  ...                 NaN   \n",
       "std        0.491812        1.070219  ...                 NaN   \n",
       "min        0.000000        0.000000  ...                 NaN   \n",
       "25%        0.000000        0.000000  ...                 NaN   \n",
       "50%        0.000000        1.000000  ...                 NaN   \n",
       "75%        0.000000        1.000000  ...                 NaN   \n",
       "max       11.000000        8.000000  ...                 NaN   \n",
       "\n",
       "       num_tl_op_past_12m  pct_tl_nvr_dlq  percent_bc_gt_75  \\\n",
       "count                 0.0             0.0               0.0   \n",
       "mean                  NaN             NaN               NaN   \n",
       "std                   NaN             NaN               NaN   \n",
       "min                   NaN             NaN               NaN   \n",
       "25%                   NaN             NaN               NaN   \n",
       "50%                   NaN             NaN               NaN   \n",
       "75%                   NaN             NaN               NaN   \n",
       "max                   NaN             NaN               NaN   \n",
       "\n",
       "       pub_rec_bankruptcies  tax_liens  tot_hi_cred_lim  total_bal_ex_mort  \\\n",
       "count          39020.000000    39678.0              0.0                0.0   \n",
       "mean               0.043260        0.0              NaN                NaN   \n",
       "std                0.204324        0.0              NaN                NaN   \n",
       "min                0.000000        0.0              NaN                NaN   \n",
       "25%                0.000000        0.0              NaN                NaN   \n",
       "50%                0.000000        0.0              NaN                NaN   \n",
       "75%                0.000000        0.0              NaN                NaN   \n",
       "max                2.000000        0.0              NaN                NaN   \n",
       "\n",
       "       total_bc_limit  total_il_high_credit_limit  \n",
       "count             0.0                         0.0  \n",
       "mean              NaN                         NaN  \n",
       "std               NaN                         NaN  \n",
       "min               NaN                         NaN  \n",
       "25%               NaN                         NaN  \n",
       "50%               NaN                         NaN  \n",
       "75%               NaN                         NaN  \n",
       "max               NaN                         NaN  \n",
       "\n",
       "[8 rows x 87 columns]"
      ]
     },
     "execution_count": 18,
     "metadata": {},
     "output_type": "execute_result"
    }
   ],
   "source": [
    "loan.describe()"
   ]
  },
  {
   "cell_type": "code",
   "execution_count": 20,
   "id": "f7ac92b7",
   "metadata": {},
   "outputs": [
    {
     "data": {
      "text/html": [
       "<div>\n",
       "<style scoped>\n",
       "    .dataframe tbody tr th:only-of-type {\n",
       "        vertical-align: middle;\n",
       "    }\n",
       "\n",
       "    .dataframe tbody tr th {\n",
       "        vertical-align: top;\n",
       "    }\n",
       "\n",
       "    .dataframe thead th {\n",
       "        text-align: right;\n",
       "    }\n",
       "</style>\n",
       "<table border=\"1\" class=\"dataframe\">\n",
       "  <thead>\n",
       "    <tr style=\"text-align: right;\">\n",
       "      <th></th>\n",
       "      <th>count</th>\n",
       "      <th>unique</th>\n",
       "      <th>top</th>\n",
       "      <th>freq</th>\n",
       "      <th>mean</th>\n",
       "      <th>std</th>\n",
       "      <th>min</th>\n",
       "      <th>25%</th>\n",
       "      <th>50%</th>\n",
       "      <th>75%</th>\n",
       "      <th>max</th>\n",
       "    </tr>\n",
       "  </thead>\n",
       "  <tbody>\n",
       "    <tr>\n",
       "      <th>id</th>\n",
       "      <td>39717.0</td>\n",
       "      <td>NaN</td>\n",
       "      <td>NaN</td>\n",
       "      <td>NaN</td>\n",
       "      <td>683131.91306</td>\n",
       "      <td>210694.132915</td>\n",
       "      <td>54734.0</td>\n",
       "      <td>516221.0</td>\n",
       "      <td>665665.0</td>\n",
       "      <td>837755.0</td>\n",
       "      <td>1077501.0</td>\n",
       "    </tr>\n",
       "    <tr>\n",
       "      <th>member_id</th>\n",
       "      <td>39717.0</td>\n",
       "      <td>NaN</td>\n",
       "      <td>NaN</td>\n",
       "      <td>NaN</td>\n",
       "      <td>850463.559408</td>\n",
       "      <td>265678.307421</td>\n",
       "      <td>70699.0</td>\n",
       "      <td>666780.0</td>\n",
       "      <td>850812.0</td>\n",
       "      <td>1047339.0</td>\n",
       "      <td>1314167.0</td>\n",
       "    </tr>\n",
       "    <tr>\n",
       "      <th>loan_amnt</th>\n",
       "      <td>39717.0</td>\n",
       "      <td>NaN</td>\n",
       "      <td>NaN</td>\n",
       "      <td>NaN</td>\n",
       "      <td>11219.443815</td>\n",
       "      <td>7456.670694</td>\n",
       "      <td>500.0</td>\n",
       "      <td>5500.0</td>\n",
       "      <td>10000.0</td>\n",
       "      <td>15000.0</td>\n",
       "      <td>35000.0</td>\n",
       "    </tr>\n",
       "    <tr>\n",
       "      <th>funded_amnt</th>\n",
       "      <td>39717.0</td>\n",
       "      <td>NaN</td>\n",
       "      <td>NaN</td>\n",
       "      <td>NaN</td>\n",
       "      <td>10947.713196</td>\n",
       "      <td>7187.23867</td>\n",
       "      <td>500.0</td>\n",
       "      <td>5400.0</td>\n",
       "      <td>9600.0</td>\n",
       "      <td>15000.0</td>\n",
       "      <td>35000.0</td>\n",
       "    </tr>\n",
       "    <tr>\n",
       "      <th>funded_amnt_inv</th>\n",
       "      <td>39717.0</td>\n",
       "      <td>NaN</td>\n",
       "      <td>NaN</td>\n",
       "      <td>NaN</td>\n",
       "      <td>10397.448868</td>\n",
       "      <td>7128.450439</td>\n",
       "      <td>0.0</td>\n",
       "      <td>5000.0</td>\n",
       "      <td>8975.0</td>\n",
       "      <td>14400.0</td>\n",
       "      <td>35000.0</td>\n",
       "    </tr>\n",
       "    <tr>\n",
       "      <th>...</th>\n",
       "      <td>...</td>\n",
       "      <td>...</td>\n",
       "      <td>...</td>\n",
       "      <td>...</td>\n",
       "      <td>...</td>\n",
       "      <td>...</td>\n",
       "      <td>...</td>\n",
       "      <td>...</td>\n",
       "      <td>...</td>\n",
       "      <td>...</td>\n",
       "      <td>...</td>\n",
       "    </tr>\n",
       "    <tr>\n",
       "      <th>tax_liens</th>\n",
       "      <td>39678.0</td>\n",
       "      <td>NaN</td>\n",
       "      <td>NaN</td>\n",
       "      <td>NaN</td>\n",
       "      <td>0.0</td>\n",
       "      <td>0.0</td>\n",
       "      <td>0.0</td>\n",
       "      <td>0.0</td>\n",
       "      <td>0.0</td>\n",
       "      <td>0.0</td>\n",
       "      <td>0.0</td>\n",
       "    </tr>\n",
       "    <tr>\n",
       "      <th>tot_hi_cred_lim</th>\n",
       "      <td>0.0</td>\n",
       "      <td>NaN</td>\n",
       "      <td>NaN</td>\n",
       "      <td>NaN</td>\n",
       "      <td>NaN</td>\n",
       "      <td>NaN</td>\n",
       "      <td>NaN</td>\n",
       "      <td>NaN</td>\n",
       "      <td>NaN</td>\n",
       "      <td>NaN</td>\n",
       "      <td>NaN</td>\n",
       "    </tr>\n",
       "    <tr>\n",
       "      <th>total_bal_ex_mort</th>\n",
       "      <td>0.0</td>\n",
       "      <td>NaN</td>\n",
       "      <td>NaN</td>\n",
       "      <td>NaN</td>\n",
       "      <td>NaN</td>\n",
       "      <td>NaN</td>\n",
       "      <td>NaN</td>\n",
       "      <td>NaN</td>\n",
       "      <td>NaN</td>\n",
       "      <td>NaN</td>\n",
       "      <td>NaN</td>\n",
       "    </tr>\n",
       "    <tr>\n",
       "      <th>total_bc_limit</th>\n",
       "      <td>0.0</td>\n",
       "      <td>NaN</td>\n",
       "      <td>NaN</td>\n",
       "      <td>NaN</td>\n",
       "      <td>NaN</td>\n",
       "      <td>NaN</td>\n",
       "      <td>NaN</td>\n",
       "      <td>NaN</td>\n",
       "      <td>NaN</td>\n",
       "      <td>NaN</td>\n",
       "      <td>NaN</td>\n",
       "    </tr>\n",
       "    <tr>\n",
       "      <th>total_il_high_credit_limit</th>\n",
       "      <td>0.0</td>\n",
       "      <td>NaN</td>\n",
       "      <td>NaN</td>\n",
       "      <td>NaN</td>\n",
       "      <td>NaN</td>\n",
       "      <td>NaN</td>\n",
       "      <td>NaN</td>\n",
       "      <td>NaN</td>\n",
       "      <td>NaN</td>\n",
       "      <td>NaN</td>\n",
       "      <td>NaN</td>\n",
       "    </tr>\n",
       "  </tbody>\n",
       "</table>\n",
       "<p>111 rows × 11 columns</p>\n",
       "</div>"
      ],
      "text/plain": [
       "                              count unique  top freq           mean  \\\n",
       "id                          39717.0    NaN  NaN  NaN   683131.91306   \n",
       "member_id                   39717.0    NaN  NaN  NaN  850463.559408   \n",
       "loan_amnt                   39717.0    NaN  NaN  NaN   11219.443815   \n",
       "funded_amnt                 39717.0    NaN  NaN  NaN   10947.713196   \n",
       "funded_amnt_inv             39717.0    NaN  NaN  NaN   10397.448868   \n",
       "...                             ...    ...  ...  ...            ...   \n",
       "tax_liens                   39678.0    NaN  NaN  NaN            0.0   \n",
       "tot_hi_cred_lim                 0.0    NaN  NaN  NaN            NaN   \n",
       "total_bal_ex_mort               0.0    NaN  NaN  NaN            NaN   \n",
       "total_bc_limit                  0.0    NaN  NaN  NaN            NaN   \n",
       "total_il_high_credit_limit      0.0    NaN  NaN  NaN            NaN   \n",
       "\n",
       "                                      std      min       25%       50%  \\\n",
       "id                          210694.132915  54734.0  516221.0  665665.0   \n",
       "member_id                   265678.307421  70699.0  666780.0  850812.0   \n",
       "loan_amnt                     7456.670694    500.0    5500.0   10000.0   \n",
       "funded_amnt                    7187.23867    500.0    5400.0    9600.0   \n",
       "funded_amnt_inv               7128.450439      0.0    5000.0    8975.0   \n",
       "...                                   ...      ...       ...       ...   \n",
       "tax_liens                             0.0      0.0       0.0       0.0   \n",
       "tot_hi_cred_lim                       NaN      NaN       NaN       NaN   \n",
       "total_bal_ex_mort                     NaN      NaN       NaN       NaN   \n",
       "total_bc_limit                        NaN      NaN       NaN       NaN   \n",
       "total_il_high_credit_limit            NaN      NaN       NaN       NaN   \n",
       "\n",
       "                                  75%        max  \n",
       "id                           837755.0  1077501.0  \n",
       "member_id                   1047339.0  1314167.0  \n",
       "loan_amnt                     15000.0    35000.0  \n",
       "funded_amnt                   15000.0    35000.0  \n",
       "funded_amnt_inv               14400.0    35000.0  \n",
       "...                               ...        ...  \n",
       "tax_liens                         0.0        0.0  \n",
       "tot_hi_cred_lim                   NaN        NaN  \n",
       "total_bal_ex_mort                 NaN        NaN  \n",
       "total_bc_limit                    NaN        NaN  \n",
       "total_il_high_credit_limit        NaN        NaN  \n",
       "\n",
       "[111 rows x 11 columns]"
      ]
     },
     "execution_count": 20,
     "metadata": {},
     "output_type": "execute_result"
    }
   ],
   "source": [
    "loan.describe(include='all').T"
   ]
  },
  {
   "cell_type": "markdown",
   "id": "c0351b65",
   "metadata": {},
   "source": [
    "### <font color=blue> Drop all NULL Columns from loan dataset as no analysis can be done on them"
   ]
  },
  {
   "cell_type": "code",
   "execution_count": 21,
   "id": "818d8ea7",
   "metadata": {},
   "outputs": [
    {
     "name": "stdout",
     "output_type": "stream",
     "text": [
      "<class 'pandas.core.frame.DataFrame'>\n",
      "RangeIndex: 39717 entries, 0 to 39716\n",
      "Data columns (total 57 columns):\n",
      " #   Column                      Non-Null Count  Dtype  \n",
      "---  ------                      --------------  -----  \n",
      " 0   id                          39717 non-null  int64  \n",
      " 1   member_id                   39717 non-null  int64  \n",
      " 2   loan_amnt                   39717 non-null  int64  \n",
      " 3   funded_amnt                 39717 non-null  int64  \n",
      " 4   funded_amnt_inv             39717 non-null  float64\n",
      " 5   term                        39717 non-null  object \n",
      " 6   int_rate                    39717 non-null  object \n",
      " 7   installment                 39717 non-null  float64\n",
      " 8   grade                       39717 non-null  object \n",
      " 9   sub_grade                   39717 non-null  object \n",
      " 10  emp_title                   37258 non-null  object \n",
      " 11  emp_length                  38642 non-null  object \n",
      " 12  home_ownership              39717 non-null  object \n",
      " 13  annual_inc                  39717 non-null  float64\n",
      " 14  verification_status         39717 non-null  object \n",
      " 15  issue_d                     39717 non-null  object \n",
      " 16  loan_status                 39717 non-null  object \n",
      " 17  pymnt_plan                  39717 non-null  object \n",
      " 18  url                         39717 non-null  object \n",
      " 19  desc                        26777 non-null  object \n",
      " 20  purpose                     39717 non-null  object \n",
      " 21  title                       39706 non-null  object \n",
      " 22  zip_code                    39717 non-null  object \n",
      " 23  addr_state                  39717 non-null  object \n",
      " 24  dti                         39717 non-null  float64\n",
      " 25  delinq_2yrs                 39717 non-null  int64  \n",
      " 26  earliest_cr_line            39717 non-null  object \n",
      " 27  inq_last_6mths              39717 non-null  int64  \n",
      " 28  mths_since_last_delinq      14035 non-null  float64\n",
      " 29  mths_since_last_record      2786 non-null   float64\n",
      " 30  open_acc                    39717 non-null  int64  \n",
      " 31  pub_rec                     39717 non-null  int64  \n",
      " 32  revol_bal                   39717 non-null  int64  \n",
      " 33  revol_util                  39667 non-null  object \n",
      " 34  total_acc                   39717 non-null  int64  \n",
      " 35  initial_list_status         39717 non-null  object \n",
      " 36  out_prncp                   39717 non-null  float64\n",
      " 37  out_prncp_inv               39717 non-null  float64\n",
      " 38  total_pymnt                 39717 non-null  float64\n",
      " 39  total_pymnt_inv             39717 non-null  float64\n",
      " 40  total_rec_prncp             39717 non-null  float64\n",
      " 41  total_rec_int               39717 non-null  float64\n",
      " 42  total_rec_late_fee          39717 non-null  float64\n",
      " 43  recoveries                  39717 non-null  float64\n",
      " 44  collection_recovery_fee     39717 non-null  float64\n",
      " 45  last_pymnt_d                39646 non-null  object \n",
      " 46  last_pymnt_amnt             39717 non-null  float64\n",
      " 47  next_pymnt_d                1140 non-null   object \n",
      " 48  last_credit_pull_d          39715 non-null  object \n",
      " 49  collections_12_mths_ex_med  39661 non-null  float64\n",
      " 50  policy_code                 39717 non-null  int64  \n",
      " 51  application_type            39717 non-null  object \n",
      " 52  acc_now_delinq              39717 non-null  int64  \n",
      " 53  chargeoff_within_12_mths    39661 non-null  float64\n",
      " 54  delinq_amnt                 39717 non-null  int64  \n",
      " 55  pub_rec_bankruptcies        39020 non-null  float64\n",
      " 56  tax_liens                   39678 non-null  float64\n",
      "dtypes: float64(20), int64(13), object(24)\n",
      "memory usage: 17.3+ MB\n",
      "None\n"
     ]
    }
   ],
   "source": [
    "# Drop all null columns from loan dataset\n",
    "loan = loan.dropna(axis=1, how=\"all\")\n",
    "print(   loan.info(max_cols=200)   )\n"
   ]
  },
  {
   "cell_type": "code",
   "execution_count": 22,
   "id": "0c2a515d",
   "metadata": {},
   "outputs": [
    {
     "name": "stdout",
     "output_type": "stream",
     "text": [
      "After dropping null columns, the share of the loan data set is: (39717, 57)\n"
     ]
    }
   ],
   "source": [
    "print(\"After dropping null columns, the share of the loan data set is:\", loan.shape)"
   ]
  },
  {
   "cell_type": "markdown",
   "id": "2cbe7afc",
   "metadata": {},
   "source": [
    "### <font color=blue>List null and not null columns in the given loan dataset"
   ]
  },
  {
   "cell_type": "code",
   "execution_count": 23,
   "id": "575d1e49",
   "metadata": {},
   "outputs": [
    {
     "name": "stdout",
     "output_type": "stream",
     "text": [
      "Total null columns in loan dataset:  14\n",
      "Index(['emp_title', 'emp_length', 'desc', 'title', 'mths_since_last_delinq',\n",
      "       'mths_since_last_record', 'revol_util', 'last_pymnt_d', 'next_pymnt_d',\n",
      "       'last_credit_pull_d', 'collections_12_mths_ex_med',\n",
      "       'chargeoff_within_12_mths', 'pub_rec_bankruptcies', 'tax_liens'],\n",
      "      dtype='object')\n"
     ]
    }
   ],
   "source": [
    "# print all null columns in dataset\n",
    "loan_null_cols = loan.columns[loan.isnull().any()]\n",
    "print(\"Total null columns in loan dataset: \", len(loan_null_cols))\n",
    "print(loan_null_cols)"
   ]
  },
  {
   "cell_type": "code",
   "execution_count": 24,
   "id": "899e582f",
   "metadata": {},
   "outputs": [
    {
     "name": "stdout",
     "output_type": "stream",
     "text": [
      "Total Not null columns in loan dataset: \t 43\n",
      "\n",
      " Index(['id', 'member_id', 'loan_amnt', 'funded_amnt', 'funded_amnt_inv',\n",
      "       'term', 'int_rate', 'installment', 'grade', 'sub_grade',\n",
      "       'home_ownership', 'annual_inc', 'verification_status', 'issue_d',\n",
      "       'loan_status', 'pymnt_plan', 'url', 'purpose', 'zip_code', 'addr_state',\n",
      "       'dti', 'delinq_2yrs', 'earliest_cr_line', 'inq_last_6mths', 'open_acc',\n",
      "       'pub_rec', 'revol_bal', 'total_acc', 'initial_list_status', 'out_prncp',\n",
      "       'out_prncp_inv', 'total_pymnt', 'total_pymnt_inv', 'total_rec_prncp',\n",
      "       'total_rec_int', 'total_rec_late_fee', 'recoveries',\n",
      "       'collection_recovery_fee', 'last_pymnt_amnt', 'policy_code',\n",
      "       'application_type', 'acc_now_delinq', 'delinq_amnt'],\n",
      "      dtype='object')\n"
     ]
    }
   ],
   "source": [
    "# print all not null columns in dataset\n",
    "loan_not_null_cols = loan.columns[~loan.isnull().any()]\n",
    "print(\"Total Not null columns in loan dataset: \\t\", len(loan_not_null_cols))\n",
    "print(\"\\n\", loan_not_null_cols)"
   ]
  },
  {
   "cell_type": "markdown",
   "id": "36cbd90d",
   "metadata": {},
   "source": [
    "### <font color=blue> Prepare list of Numerical, and Categorical columns from the given loan dataset and exclude all NULL Columns by leveraging above list variables"
   ]
  },
  {
   "cell_type": "code",
   "execution_count": 25,
   "id": "5cffca67",
   "metadata": {},
   "outputs": [
    {
     "name": "stdout",
     "output_type": "stream",
     "text": [
      "List of all NOT NULL NUMERICAL columns from loan dataset:\n",
      "\n",
      " ['id', 'member_id', 'loan_amnt', 'funded_amnt', 'funded_amnt_inv', 'installment', 'annual_inc', 'dti', 'delinq_2yrs', 'inq_last_6mths', 'open_acc', 'pub_rec', 'revol_bal', 'total_acc', 'out_prncp', 'out_prncp_inv', 'total_pymnt', 'total_pymnt_inv', 'total_rec_prncp', 'total_rec_int', 'total_rec_late_fee', 'recoveries', 'collection_recovery_fee', 'last_pymnt_amnt', 'policy_code', 'acc_now_delinq', 'delinq_amnt']\n",
      "\n",
      "Total number of NOT NULL NUMERICAL columns: \t 27\n"
     ]
    }
   ],
   "source": [
    "loan_numeric_cols = loan[loan.select_dtypes(exclude=['object']).columns.tolist()] # get all non-object type columns as numeric\n",
    "loan_numeric_cols = list(filter(lambda col: col in loan_not_null_cols, loan_numeric_cols)) # filter out null numeric cols\n",
    "print(\"List of all NOT NULL NUMERICAL columns from loan dataset:\\n\\n\", loan_numeric_cols)\n",
    "print(\"\\nTotal number of NOT NULL NUMERICAL columns: \\t\", len(loan_numeric_cols))"
   ]
  },
  {
   "cell_type": "code",
   "execution_count": 26,
   "id": "4cb21f47",
   "metadata": {},
   "outputs": [
    {
     "name": "stdout",
     "output_type": "stream",
     "text": [
      "List of all NOT NULL CATEGORICAL columns from loan dataset:\n",
      "\n",
      " ['term', 'int_rate', 'grade', 'sub_grade', 'home_ownership', 'verification_status', 'issue_d', 'loan_status', 'pymnt_plan', 'url', 'purpose', 'zip_code', 'addr_state', 'earliest_cr_line', 'initial_list_status', 'application_type']\n",
      "\n",
      "Total number of NOT NULL CATEGORICAL columns: \t 16\n"
     ]
    }
   ],
   "source": [
    "loan_cat_cols = loan[loan.select_dtypes(include=['object']).columns.tolist()] # get all object type columns as categorical\n",
    "loan_cat_cols = list(filter(lambda col: col in loan_not_null_cols, loan_cat_cols)) # filter out null object type cols\n",
    "print(\"List of all NOT NULL CATEGORICAL columns from loan dataset:\\n\\n\", loan_cat_cols)\n",
    "print(\"\\nTotal number of NOT NULL CATEGORICAL columns: \\t\", len(loan_cat_cols))"
   ]
  },
  {
   "cell_type": "markdown",
   "id": "e9c071f6",
   "metadata": {},
   "source": [
    "### <font color = blue> As per given Data Dictionary, list the potential  columns of interest to perform risk analysis on loan disbursement "
   ]
  },
  {
   "cell_type": "code",
   "execution_count": 27,
   "id": "366cd892",
   "metadata": {},
   "outputs": [
    {
     "name": "stdout",
     "output_type": "stream",
     "text": [
      "(39717, 57)\n"
     ]
    }
   ],
   "source": [
    "loan_potential_cols_for_analysis = ['addr_state', 'annual_inc', 'delinq_2yrs','dti', 'earliest_cr_line', 'emp_length', 'funded_amnt', 'funded_amnt_inv','grade', 'home_ownership', 'inq_last_6mths', 'installment', 'int_rate', 'issue_d', 'last_credit_pull_d', 'last_pymnt_amnt', 'last_pymnt_d', 'loan_amnt', 'loan_status', 'open_acc', 'out_prncp', 'out_prncp_inv', 'pub_rec', 'purpose', 'recoveries', 'revol_bal', 'revol_util', 'sub_grade', 'term', 'total_acc', 'total_pymnt', 'total_rec_int', 'total_rec_late_fee', 'total_rec_prncp', 'verification_status', 'zip_code']\n",
    "print(loan.shape)"
   ]
  },
  {
   "cell_type": "markdown",
   "id": "8cbd31f9",
   "metadata": {},
   "source": [
    "### <font color=blue>Drop all the other columns apart from the above identified columns"
   ]
  },
  {
   "cell_type": "code",
   "execution_count": 28,
   "id": "a187e705",
   "metadata": {},
   "outputs": [
    {
     "name": "stdout",
     "output_type": "stream",
     "text": [
      "(39717, 36)\n",
      "Index(['addr_state', 'annual_inc', 'delinq_2yrs', 'dti', 'earliest_cr_line',\n",
      "       'emp_length', 'funded_amnt', 'funded_amnt_inv', 'grade',\n",
      "       'home_ownership', 'inq_last_6mths', 'installment', 'int_rate',\n",
      "       'issue_d', 'last_credit_pull_d', 'last_pymnt_amnt', 'last_pymnt_d',\n",
      "       'loan_amnt', 'loan_status', 'open_acc', 'out_prncp', 'out_prncp_inv',\n",
      "       'pub_rec', 'purpose', 'recoveries', 'revol_bal', 'revol_util',\n",
      "       'sub_grade', 'term', 'total_acc', 'total_pymnt', 'total_rec_int',\n",
      "       'total_rec_late_fee', 'total_rec_prncp', 'verification_status',\n",
      "       'zip_code'],\n",
      "      dtype='object')\n"
     ]
    }
   ],
   "source": [
    "loan = loan[loan_potential_cols_for_analysis] # simplified to drop the unwanted columns\n",
    "print(loan.shape)\n",
    "print(loan.columns)"
   ]
  },
  {
   "cell_type": "markdown",
   "id": "a2b24e27",
   "metadata": {},
   "source": [
    "### <font color=blue>Till here, we have performed <u>vertical fragmentation by removing unwanted columns (axis=1) from source dataset</u>.\n",
    "### <font color=blue>Now we need to perform similar on <u>\"rows\" (axis=0) i.e., handle missing values by either dropping the row or compute the missing value. </font></u>\n",
    "    \n",
    "### <font color = blue> As first step, Check for Missing Values and then, identify possible columns to handle / standardize / impute them."
   ]
  },
  {
   "cell_type": "code",
   "execution_count": 29,
   "id": "1efb4478",
   "metadata": {},
   "outputs": [
    {
     "data": {
      "text/plain": [
       "addr_state             0.00\n",
       "annual_inc             0.00\n",
       "delinq_2yrs            0.00\n",
       "dti                    0.00\n",
       "earliest_cr_line       0.00\n",
       "emp_length             2.71\n",
       "funded_amnt            0.00\n",
       "funded_amnt_inv        0.00\n",
       "grade                  0.00\n",
       "home_ownership         0.00\n",
       "inq_last_6mths         0.00\n",
       "installment            0.00\n",
       "int_rate               0.00\n",
       "issue_d                0.00\n",
       "last_credit_pull_d     0.01\n",
       "last_pymnt_amnt        0.00\n",
       "last_pymnt_d           0.18\n",
       "loan_amnt              0.00\n",
       "loan_status            0.00\n",
       "open_acc               0.00\n",
       "out_prncp              0.00\n",
       "out_prncp_inv          0.00\n",
       "pub_rec                0.00\n",
       "purpose                0.00\n",
       "recoveries             0.00\n",
       "revol_bal              0.00\n",
       "revol_util             0.13\n",
       "sub_grade              0.00\n",
       "term                   0.00\n",
       "total_acc              0.00\n",
       "total_pymnt            0.00\n",
       "total_rec_int          0.00\n",
       "total_rec_late_fee     0.00\n",
       "total_rec_prncp        0.00\n",
       "verification_status    0.00\n",
       "zip_code               0.00\n",
       "dtype: float64"
      ]
     },
     "execution_count": 29,
     "metadata": {},
     "output_type": "execute_result"
    }
   ],
   "source": [
    "# Percentage of null values by each column in loan dataset\n",
    "round( (   loan.isnull().sum()  /  len(loan)  ) * 100, 2)"
   ]
  },
  {
   "cell_type": "markdown",
   "id": "082dfc66",
   "metadata": {},
   "source": [
    "#####  emp_length column is having 2.71% of nulls / blanks, which are to be dropped"
   ]
  },
  {
   "cell_type": "code",
   "execution_count": 31,
   "id": "a64f3be8",
   "metadata": {},
   "outputs": [],
   "source": [
    "#Drop all null rows as per emp_length column\n",
    "loan.dropna(axis=0, subset=[\"emp_length\"], inplace=True)"
   ]
  },
  {
   "cell_type": "markdown",
   "id": "ad51a902",
   "metadata": {},
   "source": [
    "##### Recheck the missing values"
   ]
  },
  {
   "cell_type": "code",
   "execution_count": 32,
   "id": "68230198",
   "metadata": {},
   "outputs": [
    {
     "data": {
      "text/plain": [
       "addr_state             0.00\n",
       "annual_inc             0.00\n",
       "delinq_2yrs            0.00\n",
       "dti                    0.00\n",
       "earliest_cr_line       0.00\n",
       "emp_length             0.00\n",
       "funded_amnt            0.00\n",
       "funded_amnt_inv        0.00\n",
       "grade                  0.00\n",
       "home_ownership         0.00\n",
       "inq_last_6mths         0.00\n",
       "installment            0.00\n",
       "int_rate               0.00\n",
       "issue_d                0.00\n",
       "last_credit_pull_d     0.01\n",
       "last_pymnt_amnt        0.00\n",
       "last_pymnt_d           0.17\n",
       "loan_amnt              0.00\n",
       "loan_status            0.00\n",
       "open_acc               0.00\n",
       "out_prncp              0.00\n",
       "out_prncp_inv          0.00\n",
       "pub_rec                0.00\n",
       "purpose                0.00\n",
       "recoveries             0.00\n",
       "revol_bal              0.00\n",
       "revol_util             0.12\n",
       "sub_grade              0.00\n",
       "term                   0.00\n",
       "total_acc              0.00\n",
       "total_pymnt            0.00\n",
       "total_rec_int          0.00\n",
       "total_rec_late_fee     0.00\n",
       "total_rec_prncp        0.00\n",
       "verification_status    0.00\n",
       "zip_code               0.00\n",
       "dtype: float64"
      ]
     },
     "execution_count": 32,
     "metadata": {},
     "output_type": "execute_result"
    }
   ],
   "source": [
    "round( (   loan.isnull().sum()  /  len(loan)  ) * 100, 2)"
   ]
  },
  {
   "cell_type": "markdown",
   "id": "069cd1a6",
   "metadata": {},
   "source": [
    "### <font color=blue> Since we need to come up with detailed insights on risk indicators, we can ignore the loans which are currently in-progress or whose status is current.\n",
    "\n",
    "### <font color = blue>Hence, need to remove rows whose loan_status = \"Current\" (case sensitive)"
   ]
  },
  {
   "cell_type": "code",
   "execution_count": 33,
   "id": "f1858a63",
   "metadata": {},
   "outputs": [
    {
     "name": "stdout",
     "output_type": "stream",
     "text": [
      "Post removal of CURRENT loans, count of distinct load_status are:  2\n",
      "\n",
      "Count of Rows: loan_status\n",
      "Charged Off     5399\n",
      "Fully Paid     32145\n",
      "Name: loan_status, dtype: int64\n"
     ]
    }
   ],
   "source": [
    "#remove rows whose loan_status = \"Current\" (case sensitive)\n",
    "loan = loan[(loan.loan_status != \"Current\")]\n",
    "print(\"Post removal of CURRENT loans, count of distinct load_status are: \", loan.loan_status.nunique())\n",
    "print(\"\")\n",
    "print(\"Count of Rows:\", loan.groupby(['loan_status'])['loan_status'].count())"
   ]
  },
  {
   "cell_type": "code",
   "execution_count": 34,
   "id": "cc53017d",
   "metadata": {},
   "outputs": [
    {
     "name": "stdout",
     "output_type": "stream",
     "text": [
      "Count of Rows: loan_status\n",
      "0    32145\n",
      "1     5399\n",
      "Name: loan_status, dtype: int64\n"
     ]
    }
   ],
   "source": [
    "# Now mark Charged Off which indicates defaulted as 1 and Fully Paid as 0 for ease of analysis\n",
    "\n",
    "loan['loan_status'].replace(['Fully Paid', 'Charged Off'],[0,1], inplace=True)\n",
    "loan['loan_status'] = loan['loan_status'].astype(int)\n",
    "\n",
    "print(\"Count of Rows:\", loan.groupby(['loan_status'])['loan_status'].count())"
   ]
  },
  {
   "cell_type": "markdown",
   "id": "76753672",
   "metadata": {},
   "source": [
    "### <font color=blue> Now potential numerical columns need to have only numerical values without symbols to apply arithmatic analysis.\n",
    "<ul><li>Both <b>int_rate and revol_util are having % symbol</b>. Need to remove %.</ul>\n",
    "<ul><li><b>\"term\" column indicates numeric value but, it has text associated with it</b>. Need to remove the text \"months\" from this \"term\" column to make it ready for arithmatic analysis.</li></ul>\n",
    "<ul><li>Verify <b>\"purpose\" column and remove certain rows whose pupose % is <1.</li></ul>\n",
    "<ul><li><b>emp_length column also has text associated with a number, so, need to alter to get its values as numeric."
   ]
  },
  {
   "cell_type": "code",
   "execution_count": 35,
   "id": "0a50e400",
   "metadata": {},
   "outputs": [
    {
     "data": {
      "text/plain": [
       "0        10.65\n",
       "1        15.27\n",
       "2        15.96\n",
       "3        13.49\n",
       "5         7.90\n",
       "         ...  \n",
       "39712     8.07\n",
       "39713    10.28\n",
       "39714     8.07\n",
       "39715     7.43\n",
       "39716    13.75\n",
       "Name: int_rate, Length: 37544, dtype: float64"
      ]
     },
     "execution_count": 35,
     "metadata": {},
     "output_type": "execute_result"
    }
   ],
   "source": [
    "#remove % symbol from int_rate column\n",
    "loan[\"int_rate\"] = loan[\"int_rate\"].str.replace(\"%\", \"\")\n",
    "loan[\"int_rate\"].astype(float)"
   ]
  },
  {
   "cell_type": "code",
   "execution_count": 36,
   "id": "af772bda",
   "metadata": {},
   "outputs": [
    {
     "data": {
      "text/plain": [
       "0        83.7\n",
       "1         9.4\n",
       "2        98.5\n",
       "3        21.0\n",
       "5        28.3\n",
       "         ... \n",
       "39712    13.1\n",
       "39713    26.9\n",
       "39714    19.4\n",
       "39715     0.7\n",
       "39716    51.5\n",
       "Name: revol_util, Length: 37544, dtype: float64"
      ]
     },
     "execution_count": 36,
     "metadata": {},
     "output_type": "execute_result"
    }
   ],
   "source": [
    "#remove % symbol from revol_util column\n",
    "loan[\"revol_util\"] = loan[\"revol_util\"].str.replace(\"%\", \"\")\n",
    "loan[\"revol_util\"].astype(float)"
   ]
  },
  {
   "cell_type": "code",
   "execution_count": 37,
   "id": "4cf778ee",
   "metadata": {},
   "outputs": [
    {
     "data": {
      "text/plain": [
       "0        36\n",
       "1        60\n",
       "2        36\n",
       "3        36\n",
       "5        36\n",
       "         ..\n",
       "39712    36\n",
       "39713    36\n",
       "39714    36\n",
       "39715    36\n",
       "39716    36\n",
       "Name: term, Length: 37544, dtype: int32"
      ]
     },
     "execution_count": 37,
     "metadata": {},
     "output_type": "execute_result"
    }
   ],
   "source": [
    "#remove \"months\" word from term column\n",
    "loan[\"term\"] = loan[\"term\"].str.replace(\"months\", \"\")\n",
    "loan[\"term\"].astype(int)"
   ]
  },
  {
   "cell_type": "code",
   "execution_count": 38,
   "id": "91c1369d",
   "metadata": {},
   "outputs": [
    {
     "name": "stdout",
     "output_type": "stream",
     "text": [
      "BEFORE removing value counts <1% on purpose column:\n",
      "\n",
      "debt_consolidation    47.078095\n",
      "credit_card           13.048690\n",
      "other                  9.889729\n",
      "home_improvement       7.417963\n",
      "major_purchase         5.540166\n",
      "small_business         4.554656\n",
      "car                    3.856808\n",
      "wedding                2.431813\n",
      "medical                1.747283\n",
      "moving                 1.470275\n",
      "house                  0.942894\n",
      "vacation               0.926912\n",
      "educational            0.844343\n",
      "renewable_energy       0.250373\n",
      "Name: purpose, dtype: float64\n",
      "\n",
      "AFTER removing value counts <1% on purpose column:\n",
      "\n",
      "debt_consolidation    48.516373\n",
      "credit_card           13.447339\n",
      "other                 10.191870\n",
      "home_improvement       7.644588\n",
      "major_purchase         5.709423\n",
      "small_business         4.693805\n",
      "car                    3.974637\n",
      "wedding                2.506107\n",
      "medical                1.800664\n",
      "moving                 1.515193\n",
      "Name: purpose, dtype: float64\n"
     ]
    }
   ],
   "source": [
    "#verify \"purpose\" column value counts.\n",
    "\n",
    "loan_purpose_values = loan[\"purpose\"].value_counts()*100/len(loan)\n",
    "print(\"BEFORE removing value counts <1% on purpose column:\")\n",
    "print()\n",
    "print(loan_purpose_values)\n",
    "\n",
    "#remove certain rows whose pupose % is <1.\n",
    "loan_purpose_delete = loan_purpose_values[loan_purpose_values<1].index.values\n",
    "loan = loan[[False if p in loan_purpose_delete else True for p in loan[\"purpose\"]]]\n",
    "\n",
    "print()\n",
    "\n",
    "#re-check purpose value counts\n",
    "loan_purpose_values = loan[\"purpose\"].value_counts()*100/len(loan)\n",
    "print(\"AFTER removing value counts <1% on purpose column:\")\n",
    "print()\n",
    "print(loan_purpose_values)\n"
   ]
  },
  {
   "cell_type": "code",
   "execution_count": 39,
   "id": "f3e3031c",
   "metadata": {},
   "outputs": [],
   "source": [
    "# update emp_length column with continuous values as int\n",
    "# where (< 1 year) is assumed as 0 and 10+ years is assumed as 10 and rest are stored as their magnitude\n",
    "loan[\"emp_length\"] = pd.to_numeric(loan[\"emp_length\"].apply(lambda x:0 if \"<\" in x else (x.split('+')[0] if \"+\" in x else x.split()[0])))"
   ]
  },
  {
   "cell_type": "markdown",
   "id": "55866c73",
   "metadata": {},
   "source": [
    "### <font color = blue>Add derived fields for Date type columns for make aggregations easy"
   ]
  },
  {
   "cell_type": "code",
   "execution_count": 40,
   "id": "3bd850a5",
   "metadata": {},
   "outputs": [],
   "source": [
    "# Add month and year on issue_d as derived columns\n",
    "loan['issue_d'] = pd.to_datetime(loan.issue_d.str.upper(), format='%b-%y', yearfirst=False)\n",
    "loan['issue_d_year'] = loan.issue_d.dt.year\n",
    "loan['issue_d_month'] = loan.issue_d.dt.strftime('%b')"
   ]
  },
  {
   "cell_type": "code",
   "execution_count": 41,
   "id": "adfc73f9",
   "metadata": {},
   "outputs": [],
   "source": [
    "# Add month and year on earliest_cr_line as derived columns\n",
    "loan['earliest_cr_line']=pd.to_datetime(loan.earliest_cr_line.str.upper(), format='%b-%y', yearfirst=False)\n",
    "loan['earliest_cr_line_year']=loan.earliest_cr_line.dt.year\n",
    "loan['earliest_cr_line_month']=loan.earliest_cr_line.dt.strftime('%b')"
   ]
  },
  {
   "cell_type": "code",
   "execution_count": 42,
   "id": "0fbdfbf3",
   "metadata": {},
   "outputs": [
    {
     "name": "stdout",
     "output_type": "stream",
     "text": [
      "<class 'pandas.core.frame.DataFrame'>\n",
      "Int64Index: 36431 entries, 0 to 39716\n",
      "Data columns (total 40 columns):\n",
      " #   Column                  Non-Null Count  Dtype         \n",
      "---  ------                  --------------  -----         \n",
      " 0   addr_state              36431 non-null  object        \n",
      " 1   annual_inc              36431 non-null  float64       \n",
      " 2   delinq_2yrs             36431 non-null  int64         \n",
      " 3   dti                     36431 non-null  float64       \n",
      " 4   earliest_cr_line        36431 non-null  datetime64[ns]\n",
      " 5   emp_length              36431 non-null  int64         \n",
      " 6   funded_amnt             36431 non-null  int64         \n",
      " 7   funded_amnt_inv         36431 non-null  float64       \n",
      " 8   grade                   36431 non-null  object        \n",
      " 9   home_ownership          36431 non-null  object        \n",
      " 10  inq_last_6mths          36431 non-null  int64         \n",
      " 11  installment             36431 non-null  float64       \n",
      " 12  int_rate                36431 non-null  object        \n",
      " 13  issue_d                 36431 non-null  datetime64[ns]\n",
      " 14  last_credit_pull_d      36429 non-null  object        \n",
      " 15  last_pymnt_amnt         36431 non-null  float64       \n",
      " 16  last_pymnt_d            36370 non-null  object        \n",
      " 17  loan_amnt               36431 non-null  int64         \n",
      " 18  loan_status             36431 non-null  int32         \n",
      " 19  open_acc                36431 non-null  int64         \n",
      " 20  out_prncp               36431 non-null  float64       \n",
      " 21  out_prncp_inv           36431 non-null  float64       \n",
      " 22  pub_rec                 36431 non-null  int64         \n",
      " 23  purpose                 36431 non-null  object        \n",
      " 24  recoveries              36431 non-null  float64       \n",
      " 25  revol_bal               36431 non-null  int64         \n",
      " 26  revol_util              36388 non-null  object        \n",
      " 27  sub_grade               36431 non-null  object        \n",
      " 28  term                    36431 non-null  object        \n",
      " 29  total_acc               36431 non-null  int64         \n",
      " 30  total_pymnt             36431 non-null  float64       \n",
      " 31  total_rec_int           36431 non-null  float64       \n",
      " 32  total_rec_late_fee      36431 non-null  float64       \n",
      " 33  total_rec_prncp         36431 non-null  float64       \n",
      " 34  verification_status     36431 non-null  object        \n",
      " 35  zip_code                36431 non-null  object        \n",
      " 36  issue_d_year            36431 non-null  int64         \n",
      " 37  issue_d_month           36431 non-null  object        \n",
      " 38  earliest_cr_line_year   36431 non-null  int64         \n",
      " 39  earliest_cr_line_month  36431 non-null  object        \n",
      "dtypes: datetime64[ns](2), float64(12), int32(1), int64(11), object(14)\n",
      "memory usage: 11.3+ MB\n"
     ]
    }
   ],
   "source": [
    "loan.info()"
   ]
  },
  {
   "cell_type": "markdown",
   "id": "26484f90",
   "metadata": {},
   "source": [
    "### <font color=Blue> Find the outliers, treat them for optimal analysis\n"
   ]
  },
  {
   "cell_type": "code",
   "execution_count": 43,
   "id": "7f34ca9b",
   "metadata": {},
   "outputs": [
    {
     "data": {
      "text/html": [
       "<div>\n",
       "<style scoped>\n",
       "    .dataframe tbody tr th:only-of-type {\n",
       "        vertical-align: middle;\n",
       "    }\n",
       "\n",
       "    .dataframe tbody tr th {\n",
       "        vertical-align: top;\n",
       "    }\n",
       "\n",
       "    .dataframe thead th {\n",
       "        text-align: right;\n",
       "    }\n",
       "</style>\n",
       "<table border=\"1\" class=\"dataframe\">\n",
       "  <thead>\n",
       "    <tr style=\"text-align: right;\">\n",
       "      <th></th>\n",
       "      <th>annual_inc</th>\n",
       "      <th>delinq_2yrs</th>\n",
       "      <th>dti</th>\n",
       "      <th>emp_length</th>\n",
       "      <th>funded_amnt</th>\n",
       "      <th>funded_amnt_inv</th>\n",
       "      <th>inq_last_6mths</th>\n",
       "      <th>installment</th>\n",
       "      <th>last_pymnt_amnt</th>\n",
       "      <th>loan_amnt</th>\n",
       "      <th>...</th>\n",
       "      <th>pub_rec</th>\n",
       "      <th>recoveries</th>\n",
       "      <th>revol_bal</th>\n",
       "      <th>total_acc</th>\n",
       "      <th>total_pymnt</th>\n",
       "      <th>total_rec_int</th>\n",
       "      <th>total_rec_late_fee</th>\n",
       "      <th>total_rec_prncp</th>\n",
       "      <th>issue_d_year</th>\n",
       "      <th>earliest_cr_line_year</th>\n",
       "    </tr>\n",
       "  </thead>\n",
       "  <tbody>\n",
       "    <tr>\n",
       "      <th>count</th>\n",
       "      <td>3.643100e+04</td>\n",
       "      <td>36431.000000</td>\n",
       "      <td>36431.000000</td>\n",
       "      <td>36431.000000</td>\n",
       "      <td>36431.000000</td>\n",
       "      <td>36431.000000</td>\n",
       "      <td>36431.000000</td>\n",
       "      <td>36431.000000</td>\n",
       "      <td>36431.000000</td>\n",
       "      <td>36431.000000</td>\n",
       "      <td>...</td>\n",
       "      <td>36431.000000</td>\n",
       "      <td>36431.000000</td>\n",
       "      <td>36431.000000</td>\n",
       "      <td>36431.000000</td>\n",
       "      <td>36431.000000</td>\n",
       "      <td>36431.000000</td>\n",
       "      <td>36431.000000</td>\n",
       "      <td>36431.000000</td>\n",
       "      <td>36431.000000</td>\n",
       "      <td>36431.000000</td>\n",
       "    </tr>\n",
       "    <tr>\n",
       "      <th>mean</th>\n",
       "      <td>6.951579e+04</td>\n",
       "      <td>0.146606</td>\n",
       "      <td>13.342387</td>\n",
       "      <td>4.946611</td>\n",
       "      <td>10930.837748</td>\n",
       "      <td>10359.939810</td>\n",
       "      <td>0.864785</td>\n",
       "      <td>326.822209</td>\n",
       "      <td>2790.312486</td>\n",
       "      <td>11199.235541</td>\n",
       "      <td>...</td>\n",
       "      <td>0.053608</td>\n",
       "      <td>98.412799</td>\n",
       "      <td>13491.049903</td>\n",
       "      <td>22.133073</td>\n",
       "      <td>12047.731189</td>\n",
       "      <td>2158.093030</td>\n",
       "      <td>1.364659</td>\n",
       "      <td>9789.860785</td>\n",
       "      <td>2010.307979</td>\n",
       "      <td>1996.885839</td>\n",
       "    </tr>\n",
       "    <tr>\n",
       "      <th>std</th>\n",
       "      <td>6.495930e+04</td>\n",
       "      <td>0.493437</td>\n",
       "      <td>6.646199</td>\n",
       "      <td>3.557477</td>\n",
       "      <td>7094.193692</td>\n",
       "      <td>7032.986185</td>\n",
       "      <td>1.064331</td>\n",
       "      <td>208.785315</td>\n",
       "      <td>4530.096023</td>\n",
       "      <td>7352.034725</td>\n",
       "      <td>...</td>\n",
       "      <td>0.234676</td>\n",
       "      <td>703.233794</td>\n",
       "      <td>15939.593055</td>\n",
       "      <td>11.402427</td>\n",
       "      <td>8835.250407</td>\n",
       "      <td>2406.436398</td>\n",
       "      <td>7.336363</td>\n",
       "      <td>7024.441768</td>\n",
       "      <td>0.883193</td>\n",
       "      <td>7.026643</td>\n",
       "    </tr>\n",
       "    <tr>\n",
       "      <th>min</th>\n",
       "      <td>4.080000e+03</td>\n",
       "      <td>0.000000</td>\n",
       "      <td>0.000000</td>\n",
       "      <td>0.000000</td>\n",
       "      <td>500.000000</td>\n",
       "      <td>0.000000</td>\n",
       "      <td>0.000000</td>\n",
       "      <td>15.690000</td>\n",
       "      <td>0.000000</td>\n",
       "      <td>500.000000</td>\n",
       "      <td>...</td>\n",
       "      <td>0.000000</td>\n",
       "      <td>0.000000</td>\n",
       "      <td>0.000000</td>\n",
       "      <td>2.000000</td>\n",
       "      <td>0.000000</td>\n",
       "      <td>0.000000</td>\n",
       "      <td>0.000000</td>\n",
       "      <td>0.000000</td>\n",
       "      <td>2007.000000</td>\n",
       "      <td>1969.000000</td>\n",
       "    </tr>\n",
       "    <tr>\n",
       "      <th>25%</th>\n",
       "      <td>4.130000e+04</td>\n",
       "      <td>0.000000</td>\n",
       "      <td>8.220000</td>\n",
       "      <td>2.000000</td>\n",
       "      <td>5500.000000</td>\n",
       "      <td>5000.000000</td>\n",
       "      <td>0.000000</td>\n",
       "      <td>168.910000</td>\n",
       "      <td>223.870000</td>\n",
       "      <td>5512.500000</td>\n",
       "      <td>...</td>\n",
       "      <td>0.000000</td>\n",
       "      <td>0.000000</td>\n",
       "      <td>3809.500000</td>\n",
       "      <td>14.000000</td>\n",
       "      <td>5612.522810</td>\n",
       "      <td>667.820000</td>\n",
       "      <td>0.000000</td>\n",
       "      <td>4750.000000</td>\n",
       "      <td>2010.000000</td>\n",
       "      <td>1994.000000</td>\n",
       "    </tr>\n",
       "    <tr>\n",
       "      <th>50%</th>\n",
       "      <td>6.000000e+04</td>\n",
       "      <td>0.000000</td>\n",
       "      <td>13.440000</td>\n",
       "      <td>4.000000</td>\n",
       "      <td>9700.000000</td>\n",
       "      <td>8975.000000</td>\n",
       "      <td>1.000000</td>\n",
       "      <td>282.520000</td>\n",
       "      <td>585.760000</td>\n",
       "      <td>10000.000000</td>\n",
       "      <td>...</td>\n",
       "      <td>0.000000</td>\n",
       "      <td>0.000000</td>\n",
       "      <td>8989.000000</td>\n",
       "      <td>20.000000</td>\n",
       "      <td>9899.640319</td>\n",
       "      <td>1338.200000</td>\n",
       "      <td>0.000000</td>\n",
       "      <td>8000.000000</td>\n",
       "      <td>2011.000000</td>\n",
       "      <td>1998.000000</td>\n",
       "    </tr>\n",
       "    <tr>\n",
       "      <th>75%</th>\n",
       "      <td>8.300000e+04</td>\n",
       "      <td>0.000000</td>\n",
       "      <td>18.600000</td>\n",
       "      <td>9.000000</td>\n",
       "      <td>15000.000000</td>\n",
       "      <td>14269.309200</td>\n",
       "      <td>1.000000</td>\n",
       "      <td>432.155000</td>\n",
       "      <td>3535.450000</td>\n",
       "      <td>15000.000000</td>\n",
       "      <td>...</td>\n",
       "      <td>0.000000</td>\n",
       "      <td>0.000000</td>\n",
       "      <td>17141.500000</td>\n",
       "      <td>29.000000</td>\n",
       "      <td>16365.293640</td>\n",
       "      <td>2722.910000</td>\n",
       "      <td>0.000000</td>\n",
       "      <td>13500.000000</td>\n",
       "      <td>2011.000000</td>\n",
       "      <td>2001.000000</td>\n",
       "    </tr>\n",
       "    <tr>\n",
       "      <th>max</th>\n",
       "      <td>6.000000e+06</td>\n",
       "      <td>11.000000</td>\n",
       "      <td>29.990000</td>\n",
       "      <td>10.000000</td>\n",
       "      <td>35000.000000</td>\n",
       "      <td>35000.000000</td>\n",
       "      <td>8.000000</td>\n",
       "      <td>1305.190000</td>\n",
       "      <td>36115.200000</td>\n",
       "      <td>35000.000000</td>\n",
       "      <td>...</td>\n",
       "      <td>4.000000</td>\n",
       "      <td>29623.350000</td>\n",
       "      <td>149588.000000</td>\n",
       "      <td>90.000000</td>\n",
       "      <td>58563.679930</td>\n",
       "      <td>23563.680000</td>\n",
       "      <td>180.200000</td>\n",
       "      <td>35000.020000</td>\n",
       "      <td>2011.000000</td>\n",
       "      <td>2068.000000</td>\n",
       "    </tr>\n",
       "  </tbody>\n",
       "</table>\n",
       "<p>8 rows × 24 columns</p>\n",
       "</div>"
      ],
      "text/plain": [
       "         annual_inc   delinq_2yrs           dti    emp_length   funded_amnt  \\\n",
       "count  3.643100e+04  36431.000000  36431.000000  36431.000000  36431.000000   \n",
       "mean   6.951579e+04      0.146606     13.342387      4.946611  10930.837748   \n",
       "std    6.495930e+04      0.493437      6.646199      3.557477   7094.193692   \n",
       "min    4.080000e+03      0.000000      0.000000      0.000000    500.000000   \n",
       "25%    4.130000e+04      0.000000      8.220000      2.000000   5500.000000   \n",
       "50%    6.000000e+04      0.000000     13.440000      4.000000   9700.000000   \n",
       "75%    8.300000e+04      0.000000     18.600000      9.000000  15000.000000   \n",
       "max    6.000000e+06     11.000000     29.990000     10.000000  35000.000000   \n",
       "\n",
       "       funded_amnt_inv  inq_last_6mths   installment  last_pymnt_amnt  \\\n",
       "count     36431.000000    36431.000000  36431.000000     36431.000000   \n",
       "mean      10359.939810        0.864785    326.822209      2790.312486   \n",
       "std        7032.986185        1.064331    208.785315      4530.096023   \n",
       "min           0.000000        0.000000     15.690000         0.000000   \n",
       "25%        5000.000000        0.000000    168.910000       223.870000   \n",
       "50%        8975.000000        1.000000    282.520000       585.760000   \n",
       "75%       14269.309200        1.000000    432.155000      3535.450000   \n",
       "max       35000.000000        8.000000   1305.190000     36115.200000   \n",
       "\n",
       "          loan_amnt  ...       pub_rec    recoveries      revol_bal  \\\n",
       "count  36431.000000  ...  36431.000000  36431.000000   36431.000000   \n",
       "mean   11199.235541  ...      0.053608     98.412799   13491.049903   \n",
       "std     7352.034725  ...      0.234676    703.233794   15939.593055   \n",
       "min      500.000000  ...      0.000000      0.000000       0.000000   \n",
       "25%     5512.500000  ...      0.000000      0.000000    3809.500000   \n",
       "50%    10000.000000  ...      0.000000      0.000000    8989.000000   \n",
       "75%    15000.000000  ...      0.000000      0.000000   17141.500000   \n",
       "max    35000.000000  ...      4.000000  29623.350000  149588.000000   \n",
       "\n",
       "          total_acc   total_pymnt  total_rec_int  total_rec_late_fee  \\\n",
       "count  36431.000000  36431.000000   36431.000000        36431.000000   \n",
       "mean      22.133073  12047.731189    2158.093030            1.364659   \n",
       "std       11.402427   8835.250407    2406.436398            7.336363   \n",
       "min        2.000000      0.000000       0.000000            0.000000   \n",
       "25%       14.000000   5612.522810     667.820000            0.000000   \n",
       "50%       20.000000   9899.640319    1338.200000            0.000000   \n",
       "75%       29.000000  16365.293640    2722.910000            0.000000   \n",
       "max       90.000000  58563.679930   23563.680000          180.200000   \n",
       "\n",
       "       total_rec_prncp  issue_d_year  earliest_cr_line_year  \n",
       "count     36431.000000  36431.000000           36431.000000  \n",
       "mean       9789.860785   2010.307979            1996.885839  \n",
       "std        7024.441768      0.883193               7.026643  \n",
       "min           0.000000   2007.000000            1969.000000  \n",
       "25%        4750.000000   2010.000000            1994.000000  \n",
       "50%        8000.000000   2011.000000            1998.000000  \n",
       "75%       13500.000000   2011.000000            2001.000000  \n",
       "max       35000.020000   2011.000000            2068.000000  \n",
       "\n",
       "[8 rows x 24 columns]"
      ]
     },
     "execution_count": 43,
     "metadata": {},
     "output_type": "execute_result"
    }
   ],
   "source": [
    "loan.describe()"
   ]
  },
  {
   "cell_type": "code",
   "execution_count": 44,
   "id": "1e2ff5a9",
   "metadata": {},
   "outputs": [],
   "source": [
    "#1: \n",
    "# As per the above, annual_inc's max value is 6000000 where 75% quantile value is 83000, is significant variance of its mean.\n",
    "# suggest to remomve outliers from annual_inc column - 99 to 100%\n",
    "annual_inc_quantile = loan[\"annual_inc\"].quantile(0.99)\n",
    "loan = loan[loan[\"annual_inc\"] < annual_inc_quantile]\n",
    "\n",
    "\n",
    "#2:\n",
    "# Similarly, open_acc's maximum value is 29 where 75% quantile value is 12, and is beyond 3 times the mean\n",
    "# suggest to remomve outliers from open_acc i.e. 99.9 to 100%\n",
    "open_acc_quantile = loan[\"open_acc\"].quantile(0.999)\n",
    "loan = loan[loan[\"open_acc\"] < open_acc_quantile]\n",
    "\n",
    "#3\n",
    "# Now total_acc's maximum value is 49.0 where 75% quantile value is 28.0, and is almost thrice the mean\n",
    "# suggest to remomve outliers from total_acc i.e. 98 to 100%\n",
    "total_acc_quantile = loan[\"total_acc\"].quantile(0.98)\n",
    "loan = loan[loan[\"total_acc\"] < total_acc_quantile]\n",
    "\n",
    "\n",
    "# Now pub_rec's maximum value is 1 where 75% quantile value is 0, and is significantly higher than its mean\n",
    "# suggest to remomve outliers from pub_rec i.e. 99.5 to 100%\n",
    "pub_rec_quantile = loan[\"pub_rec\"].quantile(0.995)\n",
    "loan = loan[loan[\"pub_rec\"] <= pub_rec_quantile]"
   ]
  },
  {
   "cell_type": "code",
   "execution_count": 45,
   "id": "90ded2b9",
   "metadata": {},
   "outputs": [
    {
     "data": {
      "text/html": [
       "<div>\n",
       "<style scoped>\n",
       "    .dataframe tbody tr th:only-of-type {\n",
       "        vertical-align: middle;\n",
       "    }\n",
       "\n",
       "    .dataframe tbody tr th {\n",
       "        vertical-align: top;\n",
       "    }\n",
       "\n",
       "    .dataframe thead th {\n",
       "        text-align: right;\n",
       "    }\n",
       "</style>\n",
       "<table border=\"1\" class=\"dataframe\">\n",
       "  <thead>\n",
       "    <tr style=\"text-align: right;\">\n",
       "      <th></th>\n",
       "      <th>annual_inc</th>\n",
       "      <th>delinq_2yrs</th>\n",
       "      <th>dti</th>\n",
       "      <th>emp_length</th>\n",
       "      <th>funded_amnt</th>\n",
       "      <th>funded_amnt_inv</th>\n",
       "      <th>inq_last_6mths</th>\n",
       "      <th>installment</th>\n",
       "      <th>last_pymnt_amnt</th>\n",
       "      <th>loan_amnt</th>\n",
       "      <th>...</th>\n",
       "      <th>pub_rec</th>\n",
       "      <th>recoveries</th>\n",
       "      <th>revol_bal</th>\n",
       "      <th>total_acc</th>\n",
       "      <th>total_pymnt</th>\n",
       "      <th>total_rec_int</th>\n",
       "      <th>total_rec_late_fee</th>\n",
       "      <th>total_rec_prncp</th>\n",
       "      <th>issue_d_year</th>\n",
       "      <th>earliest_cr_line_year</th>\n",
       "    </tr>\n",
       "  </thead>\n",
       "  <tbody>\n",
       "    <tr>\n",
       "      <th>count</th>\n",
       "      <td>35194.000000</td>\n",
       "      <td>35194.000000</td>\n",
       "      <td>35194.000000</td>\n",
       "      <td>35194.000000</td>\n",
       "      <td>35194.000000</td>\n",
       "      <td>35194.000000</td>\n",
       "      <td>35194.000000</td>\n",
       "      <td>35194.000000</td>\n",
       "      <td>35194.000000</td>\n",
       "      <td>35194.000000</td>\n",
       "      <td>...</td>\n",
       "      <td>35194.000000</td>\n",
       "      <td>35194.000000</td>\n",
       "      <td>35194.000000</td>\n",
       "      <td>35194.000000</td>\n",
       "      <td>35194.000000</td>\n",
       "      <td>35194.000000</td>\n",
       "      <td>35194.000000</td>\n",
       "      <td>35194.000000</td>\n",
       "      <td>35194.000000</td>\n",
       "      <td>35194.000000</td>\n",
       "    </tr>\n",
       "    <tr>\n",
       "      <th>mean</th>\n",
       "      <td>65419.461103</td>\n",
       "      <td>0.144314</td>\n",
       "      <td>13.344928</td>\n",
       "      <td>4.905524</td>\n",
       "      <td>10796.314713</td>\n",
       "      <td>10234.317759</td>\n",
       "      <td>0.853896</td>\n",
       "      <td>322.737475</td>\n",
       "      <td>2723.660999</td>\n",
       "      <td>11057.526141</td>\n",
       "      <td>...</td>\n",
       "      <td>0.051316</td>\n",
       "      <td>98.041975</td>\n",
       "      <td>13080.680940</td>\n",
       "      <td>21.278229</td>\n",
       "      <td>11884.145128</td>\n",
       "      <td>2125.747915</td>\n",
       "      <td>1.371290</td>\n",
       "      <td>9658.984033</td>\n",
       "      <td>2010.308092</td>\n",
       "      <td>1997.036455</td>\n",
       "    </tr>\n",
       "    <tr>\n",
       "      <th>std</th>\n",
       "      <td>34737.155886</td>\n",
       "      <td>0.487972</td>\n",
       "      <td>6.632239</td>\n",
       "      <td>3.547242</td>\n",
       "      <td>6991.908594</td>\n",
       "      <td>6929.975191</td>\n",
       "      <td>1.054758</td>\n",
       "      <td>205.279127</td>\n",
       "      <td>4437.449906</td>\n",
       "      <td>7243.279733</td>\n",
       "      <td>...</td>\n",
       "      <td>0.220644</td>\n",
       "      <td>698.097324</td>\n",
       "      <td>15294.184407</td>\n",
       "      <td>10.211237</td>\n",
       "      <td>8689.253314</td>\n",
       "      <td>2359.840453</td>\n",
       "      <td>7.360139</td>\n",
       "      <td>6913.735096</td>\n",
       "      <td>0.884138</td>\n",
       "      <td>6.938863</td>\n",
       "    </tr>\n",
       "    <tr>\n",
       "      <th>min</th>\n",
       "      <td>4080.000000</td>\n",
       "      <td>0.000000</td>\n",
       "      <td>0.000000</td>\n",
       "      <td>0.000000</td>\n",
       "      <td>500.000000</td>\n",
       "      <td>0.000000</td>\n",
       "      <td>0.000000</td>\n",
       "      <td>15.690000</td>\n",
       "      <td>0.000000</td>\n",
       "      <td>500.000000</td>\n",
       "      <td>...</td>\n",
       "      <td>0.000000</td>\n",
       "      <td>0.000000</td>\n",
       "      <td>0.000000</td>\n",
       "      <td>2.000000</td>\n",
       "      <td>0.000000</td>\n",
       "      <td>0.000000</td>\n",
       "      <td>0.000000</td>\n",
       "      <td>0.000000</td>\n",
       "      <td>2007.000000</td>\n",
       "      <td>1969.000000</td>\n",
       "    </tr>\n",
       "    <tr>\n",
       "      <th>25%</th>\n",
       "      <td>40590.500000</td>\n",
       "      <td>0.000000</td>\n",
       "      <td>8.240000</td>\n",
       "      <td>2.000000</td>\n",
       "      <td>5425.000000</td>\n",
       "      <td>5000.000000</td>\n",
       "      <td>0.000000</td>\n",
       "      <td>167.840000</td>\n",
       "      <td>221.107500</td>\n",
       "      <td>5500.000000</td>\n",
       "      <td>...</td>\n",
       "      <td>0.000000</td>\n",
       "      <td>0.000000</td>\n",
       "      <td>3734.250000</td>\n",
       "      <td>13.000000</td>\n",
       "      <td>5580.248214</td>\n",
       "      <td>662.955000</td>\n",
       "      <td>0.000000</td>\n",
       "      <td>4600.000000</td>\n",
       "      <td>2010.000000</td>\n",
       "      <td>1994.000000</td>\n",
       "    </tr>\n",
       "    <tr>\n",
       "      <th>50%</th>\n",
       "      <td>58000.000000</td>\n",
       "      <td>0.000000</td>\n",
       "      <td>13.440000</td>\n",
       "      <td>4.000000</td>\n",
       "      <td>9600.000000</td>\n",
       "      <td>8867.378611</td>\n",
       "      <td>1.000000</td>\n",
       "      <td>279.830000</td>\n",
       "      <td>568.970000</td>\n",
       "      <td>9950.000000</td>\n",
       "      <td>...</td>\n",
       "      <td>0.000000</td>\n",
       "      <td>0.000000</td>\n",
       "      <td>8813.000000</td>\n",
       "      <td>20.000000</td>\n",
       "      <td>9770.771752</td>\n",
       "      <td>1326.505000</td>\n",
       "      <td>0.000000</td>\n",
       "      <td>8000.000000</td>\n",
       "      <td>2011.000000</td>\n",
       "      <td>1998.000000</td>\n",
       "    </tr>\n",
       "    <tr>\n",
       "      <th>75%</th>\n",
       "      <td>80004.000000</td>\n",
       "      <td>0.000000</td>\n",
       "      <td>18.580000</td>\n",
       "      <td>9.000000</td>\n",
       "      <td>15000.000000</td>\n",
       "      <td>14000.000000</td>\n",
       "      <td>1.000000</td>\n",
       "      <td>424.857500</td>\n",
       "      <td>3438.347500</td>\n",
       "      <td>15000.000000</td>\n",
       "      <td>...</td>\n",
       "      <td>0.000000</td>\n",
       "      <td>0.000000</td>\n",
       "      <td>16748.500000</td>\n",
       "      <td>28.000000</td>\n",
       "      <td>16104.167952</td>\n",
       "      <td>2679.530000</td>\n",
       "      <td>0.000000</td>\n",
       "      <td>13080.467500</td>\n",
       "      <td>2011.000000</td>\n",
       "      <td>2001.000000</td>\n",
       "    </tr>\n",
       "    <tr>\n",
       "      <th>max</th>\n",
       "      <td>234996.000000</td>\n",
       "      <td>11.000000</td>\n",
       "      <td>29.990000</td>\n",
       "      <td>10.000000</td>\n",
       "      <td>35000.000000</td>\n",
       "      <td>35000.000000</td>\n",
       "      <td>8.000000</td>\n",
       "      <td>1305.190000</td>\n",
       "      <td>36115.200000</td>\n",
       "      <td>35000.000000</td>\n",
       "      <td>...</td>\n",
       "      <td>1.000000</td>\n",
       "      <td>29623.350000</td>\n",
       "      <td>149588.000000</td>\n",
       "      <td>49.000000</td>\n",
       "      <td>58563.679930</td>\n",
       "      <td>23563.680000</td>\n",
       "      <td>180.200000</td>\n",
       "      <td>35000.020000</td>\n",
       "      <td>2011.000000</td>\n",
       "      <td>2068.000000</td>\n",
       "    </tr>\n",
       "  </tbody>\n",
       "</table>\n",
       "<p>8 rows × 24 columns</p>\n",
       "</div>"
      ],
      "text/plain": [
       "          annual_inc   delinq_2yrs           dti    emp_length   funded_amnt  \\\n",
       "count   35194.000000  35194.000000  35194.000000  35194.000000  35194.000000   \n",
       "mean    65419.461103      0.144314     13.344928      4.905524  10796.314713   \n",
       "std     34737.155886      0.487972      6.632239      3.547242   6991.908594   \n",
       "min      4080.000000      0.000000      0.000000      0.000000    500.000000   \n",
       "25%     40590.500000      0.000000      8.240000      2.000000   5425.000000   \n",
       "50%     58000.000000      0.000000     13.440000      4.000000   9600.000000   \n",
       "75%     80004.000000      0.000000     18.580000      9.000000  15000.000000   \n",
       "max    234996.000000     11.000000     29.990000     10.000000  35000.000000   \n",
       "\n",
       "       funded_amnt_inv  inq_last_6mths   installment  last_pymnt_amnt  \\\n",
       "count     35194.000000    35194.000000  35194.000000     35194.000000   \n",
       "mean      10234.317759        0.853896    322.737475      2723.660999   \n",
       "std        6929.975191        1.054758    205.279127      4437.449906   \n",
       "min           0.000000        0.000000     15.690000         0.000000   \n",
       "25%        5000.000000        0.000000    167.840000       221.107500   \n",
       "50%        8867.378611        1.000000    279.830000       568.970000   \n",
       "75%       14000.000000        1.000000    424.857500      3438.347500   \n",
       "max       35000.000000        8.000000   1305.190000     36115.200000   \n",
       "\n",
       "          loan_amnt  ...       pub_rec    recoveries      revol_bal  \\\n",
       "count  35194.000000  ...  35194.000000  35194.000000   35194.000000   \n",
       "mean   11057.526141  ...      0.051316     98.041975   13080.680940   \n",
       "std     7243.279733  ...      0.220644    698.097324   15294.184407   \n",
       "min      500.000000  ...      0.000000      0.000000       0.000000   \n",
       "25%     5500.000000  ...      0.000000      0.000000    3734.250000   \n",
       "50%     9950.000000  ...      0.000000      0.000000    8813.000000   \n",
       "75%    15000.000000  ...      0.000000      0.000000   16748.500000   \n",
       "max    35000.000000  ...      1.000000  29623.350000  149588.000000   \n",
       "\n",
       "          total_acc   total_pymnt  total_rec_int  total_rec_late_fee  \\\n",
       "count  35194.000000  35194.000000   35194.000000        35194.000000   \n",
       "mean      21.278229  11884.145128    2125.747915            1.371290   \n",
       "std       10.211237   8689.253314    2359.840453            7.360139   \n",
       "min        2.000000      0.000000       0.000000            0.000000   \n",
       "25%       13.000000   5580.248214     662.955000            0.000000   \n",
       "50%       20.000000   9770.771752    1326.505000            0.000000   \n",
       "75%       28.000000  16104.167952    2679.530000            0.000000   \n",
       "max       49.000000  58563.679930   23563.680000          180.200000   \n",
       "\n",
       "       total_rec_prncp  issue_d_year  earliest_cr_line_year  \n",
       "count     35194.000000  35194.000000           35194.000000  \n",
       "mean       9658.984033   2010.308092            1997.036455  \n",
       "std        6913.735096      0.884138               6.938863  \n",
       "min           0.000000   2007.000000            1969.000000  \n",
       "25%        4600.000000   2010.000000            1994.000000  \n",
       "50%        8000.000000   2011.000000            1998.000000  \n",
       "75%       13080.467500   2011.000000            2001.000000  \n",
       "max       35000.020000   2011.000000            2068.000000  \n",
       "\n",
       "[8 rows x 24 columns]"
      ]
     },
     "execution_count": 45,
     "metadata": {},
     "output_type": "execute_result"
    }
   ],
   "source": [
    "loan.describe()"
   ]
  },
  {
   "cell_type": "code",
   "execution_count": 46,
   "id": "e35b4834",
   "metadata": {},
   "outputs": [
    {
     "data": {
      "text/html": [
       "<div>\n",
       "<style scoped>\n",
       "    .dataframe tbody tr th:only-of-type {\n",
       "        vertical-align: middle;\n",
       "    }\n",
       "\n",
       "    .dataframe tbody tr th {\n",
       "        vertical-align: top;\n",
       "    }\n",
       "\n",
       "    .dataframe thead th {\n",
       "        text-align: right;\n",
       "    }\n",
       "</style>\n",
       "<table border=\"1\" class=\"dataframe\">\n",
       "  <thead>\n",
       "    <tr style=\"text-align: right;\">\n",
       "      <th></th>\n",
       "      <th>addr_state</th>\n",
       "      <th>annual_inc</th>\n",
       "      <th>delinq_2yrs</th>\n",
       "      <th>dti</th>\n",
       "      <th>earliest_cr_line</th>\n",
       "      <th>emp_length</th>\n",
       "      <th>funded_amnt</th>\n",
       "      <th>funded_amnt_inv</th>\n",
       "      <th>grade</th>\n",
       "      <th>home_ownership</th>\n",
       "      <th>...</th>\n",
       "      <th>total_pymnt</th>\n",
       "      <th>total_rec_int</th>\n",
       "      <th>total_rec_late_fee</th>\n",
       "      <th>total_rec_prncp</th>\n",
       "      <th>verification_status</th>\n",
       "      <th>zip_code</th>\n",
       "      <th>issue_d_year</th>\n",
       "      <th>issue_d_month</th>\n",
       "      <th>earliest_cr_line_year</th>\n",
       "      <th>earliest_cr_line_month</th>\n",
       "    </tr>\n",
       "  </thead>\n",
       "  <tbody>\n",
       "    <tr>\n",
       "      <th>0</th>\n",
       "      <td>AZ</td>\n",
       "      <td>24000.0</td>\n",
       "      <td>0</td>\n",
       "      <td>27.65</td>\n",
       "      <td>1985-01-01</td>\n",
       "      <td>10</td>\n",
       "      <td>5000</td>\n",
       "      <td>4975.0</td>\n",
       "      <td>B</td>\n",
       "      <td>RENT</td>\n",
       "      <td>...</td>\n",
       "      <td>5863.155187</td>\n",
       "      <td>863.16</td>\n",
       "      <td>0.00</td>\n",
       "      <td>5000.00</td>\n",
       "      <td>Verified</td>\n",
       "      <td>860xx</td>\n",
       "      <td>2011</td>\n",
       "      <td>Dec</td>\n",
       "      <td>1985</td>\n",
       "      <td>Jan</td>\n",
       "    </tr>\n",
       "    <tr>\n",
       "      <th>1</th>\n",
       "      <td>GA</td>\n",
       "      <td>30000.0</td>\n",
       "      <td>0</td>\n",
       "      <td>1.00</td>\n",
       "      <td>1999-04-01</td>\n",
       "      <td>0</td>\n",
       "      <td>2500</td>\n",
       "      <td>2500.0</td>\n",
       "      <td>C</td>\n",
       "      <td>RENT</td>\n",
       "      <td>...</td>\n",
       "      <td>1008.710000</td>\n",
       "      <td>435.17</td>\n",
       "      <td>0.00</td>\n",
       "      <td>456.46</td>\n",
       "      <td>Source Verified</td>\n",
       "      <td>309xx</td>\n",
       "      <td>2011</td>\n",
       "      <td>Dec</td>\n",
       "      <td>1999</td>\n",
       "      <td>Apr</td>\n",
       "    </tr>\n",
       "    <tr>\n",
       "      <th>2</th>\n",
       "      <td>IL</td>\n",
       "      <td>12252.0</td>\n",
       "      <td>0</td>\n",
       "      <td>8.72</td>\n",
       "      <td>2001-11-01</td>\n",
       "      <td>10</td>\n",
       "      <td>2400</td>\n",
       "      <td>2400.0</td>\n",
       "      <td>C</td>\n",
       "      <td>RENT</td>\n",
       "      <td>...</td>\n",
       "      <td>3005.666844</td>\n",
       "      <td>605.67</td>\n",
       "      <td>0.00</td>\n",
       "      <td>2400.00</td>\n",
       "      <td>Not Verified</td>\n",
       "      <td>606xx</td>\n",
       "      <td>2011</td>\n",
       "      <td>Dec</td>\n",
       "      <td>2001</td>\n",
       "      <td>Nov</td>\n",
       "    </tr>\n",
       "    <tr>\n",
       "      <th>3</th>\n",
       "      <td>CA</td>\n",
       "      <td>49200.0</td>\n",
       "      <td>0</td>\n",
       "      <td>20.00</td>\n",
       "      <td>1996-02-01</td>\n",
       "      <td>10</td>\n",
       "      <td>10000</td>\n",
       "      <td>10000.0</td>\n",
       "      <td>C</td>\n",
       "      <td>RENT</td>\n",
       "      <td>...</td>\n",
       "      <td>12231.890000</td>\n",
       "      <td>2214.92</td>\n",
       "      <td>16.97</td>\n",
       "      <td>10000.00</td>\n",
       "      <td>Source Verified</td>\n",
       "      <td>917xx</td>\n",
       "      <td>2011</td>\n",
       "      <td>Dec</td>\n",
       "      <td>1996</td>\n",
       "      <td>Feb</td>\n",
       "    </tr>\n",
       "    <tr>\n",
       "      <th>5</th>\n",
       "      <td>AZ</td>\n",
       "      <td>36000.0</td>\n",
       "      <td>0</td>\n",
       "      <td>11.20</td>\n",
       "      <td>2004-11-01</td>\n",
       "      <td>3</td>\n",
       "      <td>5000</td>\n",
       "      <td>5000.0</td>\n",
       "      <td>A</td>\n",
       "      <td>RENT</td>\n",
       "      <td>...</td>\n",
       "      <td>5632.210000</td>\n",
       "      <td>632.21</td>\n",
       "      <td>0.00</td>\n",
       "      <td>5000.00</td>\n",
       "      <td>Source Verified</td>\n",
       "      <td>852xx</td>\n",
       "      <td>2011</td>\n",
       "      <td>Dec</td>\n",
       "      <td>2004</td>\n",
       "      <td>Nov</td>\n",
       "    </tr>\n",
       "    <tr>\n",
       "      <th>...</th>\n",
       "      <td>...</td>\n",
       "      <td>...</td>\n",
       "      <td>...</td>\n",
       "      <td>...</td>\n",
       "      <td>...</td>\n",
       "      <td>...</td>\n",
       "      <td>...</td>\n",
       "      <td>...</td>\n",
       "      <td>...</td>\n",
       "      <td>...</td>\n",
       "      <td>...</td>\n",
       "      <td>...</td>\n",
       "      <td>...</td>\n",
       "      <td>...</td>\n",
       "      <td>...</td>\n",
       "      <td>...</td>\n",
       "      <td>...</td>\n",
       "      <td>...</td>\n",
       "      <td>...</td>\n",
       "      <td>...</td>\n",
       "      <td>...</td>\n",
       "    </tr>\n",
       "    <tr>\n",
       "      <th>39712</th>\n",
       "      <td>CO</td>\n",
       "      <td>110000.0</td>\n",
       "      <td>0</td>\n",
       "      <td>11.33</td>\n",
       "      <td>1990-11-01</td>\n",
       "      <td>4</td>\n",
       "      <td>2500</td>\n",
       "      <td>1075.0</td>\n",
       "      <td>A</td>\n",
       "      <td>MORTGAGE</td>\n",
       "      <td>...</td>\n",
       "      <td>2822.969293</td>\n",
       "      <td>322.97</td>\n",
       "      <td>0.00</td>\n",
       "      <td>2500.00</td>\n",
       "      <td>Not Verified</td>\n",
       "      <td>802xx</td>\n",
       "      <td>2007</td>\n",
       "      <td>Jul</td>\n",
       "      <td>1990</td>\n",
       "      <td>Nov</td>\n",
       "    </tr>\n",
       "    <tr>\n",
       "      <th>39713</th>\n",
       "      <td>NC</td>\n",
       "      <td>18000.0</td>\n",
       "      <td>1</td>\n",
       "      <td>6.40</td>\n",
       "      <td>1986-12-01</td>\n",
       "      <td>3</td>\n",
       "      <td>8500</td>\n",
       "      <td>875.0</td>\n",
       "      <td>C</td>\n",
       "      <td>RENT</td>\n",
       "      <td>...</td>\n",
       "      <td>9913.491822</td>\n",
       "      <td>1413.49</td>\n",
       "      <td>0.00</td>\n",
       "      <td>8500.00</td>\n",
       "      <td>Not Verified</td>\n",
       "      <td>274xx</td>\n",
       "      <td>2007</td>\n",
       "      <td>Jul</td>\n",
       "      <td>1986</td>\n",
       "      <td>Dec</td>\n",
       "    </tr>\n",
       "    <tr>\n",
       "      <th>39714</th>\n",
       "      <td>MA</td>\n",
       "      <td>100000.0</td>\n",
       "      <td>0</td>\n",
       "      <td>2.30</td>\n",
       "      <td>1998-10-01</td>\n",
       "      <td>0</td>\n",
       "      <td>5000</td>\n",
       "      <td>1325.0</td>\n",
       "      <td>A</td>\n",
       "      <td>MORTGAGE</td>\n",
       "      <td>...</td>\n",
       "      <td>5272.161128</td>\n",
       "      <td>272.16</td>\n",
       "      <td>0.00</td>\n",
       "      <td>5000.00</td>\n",
       "      <td>Not Verified</td>\n",
       "      <td>017xx</td>\n",
       "      <td>2007</td>\n",
       "      <td>Jul</td>\n",
       "      <td>1998</td>\n",
       "      <td>Oct</td>\n",
       "    </tr>\n",
       "    <tr>\n",
       "      <th>39715</th>\n",
       "      <td>MD</td>\n",
       "      <td>200000.0</td>\n",
       "      <td>0</td>\n",
       "      <td>3.72</td>\n",
       "      <td>1988-11-01</td>\n",
       "      <td>0</td>\n",
       "      <td>5000</td>\n",
       "      <td>650.0</td>\n",
       "      <td>A</td>\n",
       "      <td>MORTGAGE</td>\n",
       "      <td>...</td>\n",
       "      <td>5174.198551</td>\n",
       "      <td>174.20</td>\n",
       "      <td>0.00</td>\n",
       "      <td>5000.00</td>\n",
       "      <td>Not Verified</td>\n",
       "      <td>208xx</td>\n",
       "      <td>2007</td>\n",
       "      <td>Jul</td>\n",
       "      <td>1988</td>\n",
       "      <td>Nov</td>\n",
       "    </tr>\n",
       "    <tr>\n",
       "      <th>39716</th>\n",
       "      <td>MA</td>\n",
       "      <td>22000.0</td>\n",
       "      <td>1</td>\n",
       "      <td>14.29</td>\n",
       "      <td>2003-10-01</td>\n",
       "      <td>0</td>\n",
       "      <td>7500</td>\n",
       "      <td>800.0</td>\n",
       "      <td>E</td>\n",
       "      <td>OWN</td>\n",
       "      <td>...</td>\n",
       "      <td>9195.263334</td>\n",
       "      <td>1695.26</td>\n",
       "      <td>0.00</td>\n",
       "      <td>7500.00</td>\n",
       "      <td>Not Verified</td>\n",
       "      <td>027xx</td>\n",
       "      <td>2007</td>\n",
       "      <td>Jun</td>\n",
       "      <td>2003</td>\n",
       "      <td>Oct</td>\n",
       "    </tr>\n",
       "  </tbody>\n",
       "</table>\n",
       "<p>35194 rows × 40 columns</p>\n",
       "</div>"
      ],
      "text/plain": [
       "      addr_state  annual_inc  delinq_2yrs    dti earliest_cr_line  emp_length  \\\n",
       "0             AZ     24000.0            0  27.65       1985-01-01          10   \n",
       "1             GA     30000.0            0   1.00       1999-04-01           0   \n",
       "2             IL     12252.0            0   8.72       2001-11-01          10   \n",
       "3             CA     49200.0            0  20.00       1996-02-01          10   \n",
       "5             AZ     36000.0            0  11.20       2004-11-01           3   \n",
       "...          ...         ...          ...    ...              ...         ...   \n",
       "39712         CO    110000.0            0  11.33       1990-11-01           4   \n",
       "39713         NC     18000.0            1   6.40       1986-12-01           3   \n",
       "39714         MA    100000.0            0   2.30       1998-10-01           0   \n",
       "39715         MD    200000.0            0   3.72       1988-11-01           0   \n",
       "39716         MA     22000.0            1  14.29       2003-10-01           0   \n",
       "\n",
       "       funded_amnt  funded_amnt_inv grade home_ownership  ...   total_pymnt  \\\n",
       "0             5000           4975.0     B           RENT  ...   5863.155187   \n",
       "1             2500           2500.0     C           RENT  ...   1008.710000   \n",
       "2             2400           2400.0     C           RENT  ...   3005.666844   \n",
       "3            10000          10000.0     C           RENT  ...  12231.890000   \n",
       "5             5000           5000.0     A           RENT  ...   5632.210000   \n",
       "...            ...              ...   ...            ...  ...           ...   \n",
       "39712         2500           1075.0     A       MORTGAGE  ...   2822.969293   \n",
       "39713         8500            875.0     C           RENT  ...   9913.491822   \n",
       "39714         5000           1325.0     A       MORTGAGE  ...   5272.161128   \n",
       "39715         5000            650.0     A       MORTGAGE  ...   5174.198551   \n",
       "39716         7500            800.0     E            OWN  ...   9195.263334   \n",
       "\n",
       "       total_rec_int total_rec_late_fee total_rec_prncp verification_status  \\\n",
       "0             863.16               0.00         5000.00            Verified   \n",
       "1             435.17               0.00          456.46     Source Verified   \n",
       "2             605.67               0.00         2400.00        Not Verified   \n",
       "3            2214.92              16.97        10000.00     Source Verified   \n",
       "5             632.21               0.00         5000.00     Source Verified   \n",
       "...              ...                ...             ...                 ...   \n",
       "39712         322.97               0.00         2500.00        Not Verified   \n",
       "39713        1413.49               0.00         8500.00        Not Verified   \n",
       "39714         272.16               0.00         5000.00        Not Verified   \n",
       "39715         174.20               0.00         5000.00        Not Verified   \n",
       "39716        1695.26               0.00         7500.00        Not Verified   \n",
       "\n",
       "       zip_code issue_d_year  issue_d_month  earliest_cr_line_year  \\\n",
       "0         860xx         2011            Dec                   1985   \n",
       "1         309xx         2011            Dec                   1999   \n",
       "2         606xx         2011            Dec                   2001   \n",
       "3         917xx         2011            Dec                   1996   \n",
       "5         852xx         2011            Dec                   2004   \n",
       "...         ...          ...            ...                    ...   \n",
       "39712     802xx         2007            Jul                   1990   \n",
       "39713     274xx         2007            Jul                   1986   \n",
       "39714     017xx         2007            Jul                   1998   \n",
       "39715     208xx         2007            Jul                   1988   \n",
       "39716     027xx         2007            Jun                   2003   \n",
       "\n",
       "       earliest_cr_line_month  \n",
       "0                         Jan  \n",
       "1                         Apr  \n",
       "2                         Nov  \n",
       "3                         Feb  \n",
       "5                         Nov  \n",
       "...                       ...  \n",
       "39712                     Nov  \n",
       "39713                     Dec  \n",
       "39714                     Oct  \n",
       "39715                     Nov  \n",
       "39716                     Oct  \n",
       "\n",
       "[35194 rows x 40 columns]"
      ]
     },
     "execution_count": 46,
     "metadata": {},
     "output_type": "execute_result"
    }
   ],
   "source": [
    "loan"
   ]
  },
  {
   "cell_type": "code",
   "execution_count": 47,
   "id": "47ace3cf",
   "metadata": {},
   "outputs": [
    {
     "name": "stdout",
     "output_type": "stream",
     "text": [
      "<class 'pandas.core.frame.DataFrame'>\n",
      "Int64Index: 35194 entries, 0 to 39716\n",
      "Data columns (total 40 columns):\n",
      " #   Column                  Non-Null Count  Dtype         \n",
      "---  ------                  --------------  -----         \n",
      " 0   addr_state              35194 non-null  object        \n",
      " 1   annual_inc              35194 non-null  float64       \n",
      " 2   delinq_2yrs             35194 non-null  int64         \n",
      " 3   dti                     35194 non-null  float64       \n",
      " 4   earliest_cr_line        35194 non-null  datetime64[ns]\n",
      " 5   emp_length              35194 non-null  int64         \n",
      " 6   funded_amnt             35194 non-null  int64         \n",
      " 7   funded_amnt_inv         35194 non-null  float64       \n",
      " 8   grade                   35194 non-null  object        \n",
      " 9   home_ownership          35194 non-null  object        \n",
      " 10  inq_last_6mths          35194 non-null  int64         \n",
      " 11  installment             35194 non-null  float64       \n",
      " 12  int_rate                35194 non-null  object        \n",
      " 13  issue_d                 35194 non-null  datetime64[ns]\n",
      " 14  last_credit_pull_d      35192 non-null  object        \n",
      " 15  last_pymnt_amnt         35194 non-null  float64       \n",
      " 16  last_pymnt_d            35133 non-null  object        \n",
      " 17  loan_amnt               35194 non-null  int64         \n",
      " 18  loan_status             35194 non-null  int32         \n",
      " 19  open_acc                35194 non-null  int64         \n",
      " 20  out_prncp               35194 non-null  float64       \n",
      " 21  out_prncp_inv           35194 non-null  float64       \n",
      " 22  pub_rec                 35194 non-null  int64         \n",
      " 23  purpose                 35194 non-null  object        \n",
      " 24  recoveries              35194 non-null  float64       \n",
      " 25  revol_bal               35194 non-null  int64         \n",
      " 26  revol_util              35152 non-null  object        \n",
      " 27  sub_grade               35194 non-null  object        \n",
      " 28  term                    35194 non-null  object        \n",
      " 29  total_acc               35194 non-null  int64         \n",
      " 30  total_pymnt             35194 non-null  float64       \n",
      " 31  total_rec_int           35194 non-null  float64       \n",
      " 32  total_rec_late_fee      35194 non-null  float64       \n",
      " 33  total_rec_prncp         35194 non-null  float64       \n",
      " 34  verification_status     35194 non-null  object        \n",
      " 35  zip_code                35194 non-null  object        \n",
      " 36  issue_d_year            35194 non-null  int64         \n",
      " 37  issue_d_month           35194 non-null  object        \n",
      " 38  earliest_cr_line_year   35194 non-null  int64         \n",
      " 39  earliest_cr_line_month  35194 non-null  object        \n",
      "dtypes: datetime64[ns](2), float64(12), int32(1), int64(11), object(14)\n",
      "memory usage: 10.9+ MB\n"
     ]
    }
   ],
   "source": [
    "loan.info()"
   ]
  },
  {
   "cell_type": "code",
   "execution_count": 48,
   "id": "8162d4ad",
   "metadata": {},
   "outputs": [
    {
     "data": {
      "text/plain": [
       "Index(['addr_state', 'annual_inc', 'delinq_2yrs', 'dti', 'earliest_cr_line',\n",
       "       'emp_length', 'funded_amnt', 'funded_amnt_inv', 'grade',\n",
       "       'home_ownership', 'inq_last_6mths', 'installment', 'int_rate',\n",
       "       'issue_d', 'last_credit_pull_d', 'last_pymnt_amnt', 'last_pymnt_d',\n",
       "       'loan_amnt', 'loan_status', 'open_acc', 'out_prncp', 'out_prncp_inv',\n",
       "       'pub_rec', 'purpose', 'recoveries', 'revol_bal', 'revol_util',\n",
       "       'sub_grade', 'term', 'total_acc', 'total_pymnt', 'total_rec_int',\n",
       "       'total_rec_late_fee', 'total_rec_prncp', 'verification_status',\n",
       "       'zip_code', 'issue_d_year', 'issue_d_month', 'earliest_cr_line_year',\n",
       "       'earliest_cr_line_month'],\n",
       "      dtype='object')"
      ]
     },
     "execution_count": 48,
     "metadata": {},
     "output_type": "execute_result"
    }
   ],
   "source": [
    "loan.columns"
   ]
  },
  {
   "cell_type": "markdown",
   "id": "646bf057",
   "metadata": {},
   "source": [
    "### <font color=blue> EDA & our observations "
   ]
  },
  {
   "cell_type": "code",
   "execution_count": 49,
   "id": "087e9a87",
   "metadata": {},
   "outputs": [
    {
     "data": {
      "text/plain": [
       "<AxesSubplot:xlabel='annual_inc'>"
      ]
     },
     "execution_count": 49,
     "metadata": {},
     "output_type": "execute_result"
    },
    {
     "data": {
      "image/png": "[encoded data removed]",
      "text/plain": [
       "<Figure size 432x288 with 1 Axes>"
      ]
     },
     "metadata": {
      "needs_background": "light"
     },
     "output_type": "display_data"
    }
   ],
   "source": [
    "#generate boxplot & verify\n",
    "sns.boxplot(loan['annual_inc'])"
   ]
  },
  {
   "cell_type": "code",
   "execution_count": 51,
   "id": "e1479dfb",
   "metadata": {},
   "outputs": [
    {
     "data": {
      "text/plain": [
       "0.750     80004.00\n",
       "0.900    110004.00\n",
       "0.950    133000.00\n",
       "0.970    150000.00\n",
       "0.975    156000.00\n",
       "0.980    165000.00\n",
       "0.990    186004.41\n",
       "1.000    234996.00\n",
       "Name: annual_inc, dtype: float64"
      ]
     },
     "execution_count": 51,
     "metadata": {},
     "output_type": "execute_result"
    }
   ],
   "source": [
    "# Quantiles divides a dataset into equal parts based on the probability distribution. This helps us to understand the spread and central tendency of data.\n",
    "# Verify annual_inc quantile values for its continuity\n",
    "loan.annual_inc.quantile([0.75,0.90,0.95,0.97,0.975, 0.98, 0.99, 1.0])"
   ]
  },
  {
   "cell_type": "markdown",
   "id": "cd85e07b",
   "metadata": {},
   "source": [
    "As data is continuous for annual_inc, so, no action is required."
   ]
  },
  {
   "cell_type": "markdown",
   "id": "9eab7973",
   "metadata": {},
   "source": [
    "### <font color=blue>Create bins for categorical analysis on loan amount, annual income, interest rate and dti"
   ]
  },
  {
   "cell_type": "code",
   "execution_count": 52,
   "id": "cda74bfe",
   "metadata": {},
   "outputs": [],
   "source": [
    "# Bin for loan_amnt\n",
    "bins = [0, 5000, 10000, 15000, 20000, 25000, 36000]\n",
    "bucket_loan_amnt = ['0-5000', '5000-10000', '10000-15000', '15000-20000', '20000-25000','25000+']\n",
    "loan['loan_amnt_range'] = pd.cut(loan['loan_amnt'], bins, labels = bucket_loan_amnt)"
   ]
  },
  {
   "cell_type": "code",
   "execution_count": 53,
   "id": "5c3f5be1",
   "metadata": {},
   "outputs": [],
   "source": [
    "# Bin for annual_inc\n",
    "bins = [0, 25000, 50000, 75000, 100000, 1000000]\n",
    "bucket_annual_inc = ['0-25000', '25000-50000', '50000-75000', '75000-100000', '100000+']\n",
    "loan['annual_inc_range'] = pd.cut(loan['annual_inc'], bins, labels=bucket_annual_inc)"
   ]
  },
  {
   "cell_type": "code",
   "execution_count": 54,
   "id": "6a5367d7",
   "metadata": {},
   "outputs": [],
   "source": [
    "# Bin for dti\n",
    "bins = [-1, 5.00, 10.00, 15.00, 20.00, 25.00, 50.00]\n",
    "bucket_dti = ['0-5%', '5-10%', '10-15%', '15-20%', '20-25%', '25%+']\n",
    "loan['dti_range'] = pd.cut(loan['dti'], bins, labels=bucket_dti)"
   ]
  },
  {
   "cell_type": "code",
   "execution_count": 55,
   "id": "60961c0d",
   "metadata": {},
   "outputs": [],
   "source": [
    "# Bin for int_rate\n",
    "loan['int_rate'] = pd.to_numeric(loan['int_rate']) \n",
    "bins = [0, 7.5, 10, 12.5, 15, 100]\n",
    "bucket_int_rate = ['0-7.5', '7.5-10', '10-12.5', '12.5-15', '15+']\n",
    "loan['int_rate_range'] = pd.cut(loan['int_rate'], bins, labels = bucket_int_rate)"
   ]
  },
  {
   "cell_type": "code",
   "execution_count": 56,
   "id": "bbc446ed",
   "metadata": {},
   "outputs": [
    {
     "name": "stdout",
     "output_type": "stream",
     "text": [
      "<class 'pandas.core.frame.DataFrame'>\n",
      "Int64Index: 35194 entries, 0 to 39716\n",
      "Data columns (total 44 columns):\n",
      " #   Column                  Non-Null Count  Dtype         \n",
      "---  ------                  --------------  -----         \n",
      " 0   addr_state              35194 non-null  object        \n",
      " 1   annual_inc              35194 non-null  float64       \n",
      " 2   delinq_2yrs             35194 non-null  int64         \n",
      " 3   dti                     35194 non-null  float64       \n",
      " 4   earliest_cr_line        35194 non-null  datetime64[ns]\n",
      " 5   emp_length              35194 non-null  int64         \n",
      " 6   funded_amnt             35194 non-null  int64         \n",
      " 7   funded_amnt_inv         35194 non-null  float64       \n",
      " 8   grade                   35194 non-null  object        \n",
      " 9   home_ownership          35194 non-null  object        \n",
      " 10  inq_last_6mths          35194 non-null  int64         \n",
      " 11  installment             35194 non-null  float64       \n",
      " 12  int_rate                35194 non-null  float64       \n",
      " 13  issue_d                 35194 non-null  datetime64[ns]\n",
      " 14  last_credit_pull_d      35192 non-null  object        \n",
      " 15  last_pymnt_amnt         35194 non-null  float64       \n",
      " 16  last_pymnt_d            35133 non-null  object        \n",
      " 17  loan_amnt               35194 non-null  int64         \n",
      " 18  loan_status             35194 non-null  int32         \n",
      " 19  open_acc                35194 non-null  int64         \n",
      " 20  out_prncp               35194 non-null  float64       \n",
      " 21  out_prncp_inv           35194 non-null  float64       \n",
      " 22  pub_rec                 35194 non-null  int64         \n",
      " 23  purpose                 35194 non-null  object        \n",
      " 24  recoveries              35194 non-null  float64       \n",
      " 25  revol_bal               35194 non-null  int64         \n",
      " 26  revol_util              35152 non-null  object        \n",
      " 27  sub_grade               35194 non-null  object        \n",
      " 28  term                    35194 non-null  object        \n",
      " 29  total_acc               35194 non-null  int64         \n",
      " 30  total_pymnt             35194 non-null  float64       \n",
      " 31  total_rec_int           35194 non-null  float64       \n",
      " 32  total_rec_late_fee      35194 non-null  float64       \n",
      " 33  total_rec_prncp         35194 non-null  float64       \n",
      " 34  verification_status     35194 non-null  object        \n",
      " 35  zip_code                35194 non-null  object        \n",
      " 36  issue_d_year            35194 non-null  int64         \n",
      " 37  issue_d_month           35194 non-null  object        \n",
      " 38  earliest_cr_line_year   35194 non-null  int64         \n",
      " 39  earliest_cr_line_month  35194 non-null  object        \n",
      " 40  loan_amnt_range         35194 non-null  category      \n",
      " 41  annual_inc_range        35194 non-null  category      \n",
      " 42  dti_range               35194 non-null  category      \n",
      " 43  int_rate_range          35194 non-null  category      \n",
      "dtypes: category(4), datetime64[ns](2), float64(13), int32(1), int64(11), object(13)\n",
      "memory usage: 11.0+ MB\n"
     ]
    }
   ],
   "source": [
    "loan.info()"
   ]
  },
  {
   "cell_type": "code",
   "execution_count": 57,
   "id": "cd750827",
   "metadata": {},
   "outputs": [
    {
     "data": {
      "text/html": [
       "<div>\n",
       "<style scoped>\n",
       "    .dataframe tbody tr th:only-of-type {\n",
       "        vertical-align: middle;\n",
       "    }\n",
       "\n",
       "    .dataframe tbody tr th {\n",
       "        vertical-align: top;\n",
       "    }\n",
       "\n",
       "    .dataframe thead th {\n",
       "        text-align: right;\n",
       "    }\n",
       "</style>\n",
       "<table border=\"1\" class=\"dataframe\">\n",
       "  <thead>\n",
       "    <tr style=\"text-align: right;\">\n",
       "      <th></th>\n",
       "      <th>addr_state</th>\n",
       "      <th>annual_inc</th>\n",
       "      <th>delinq_2yrs</th>\n",
       "      <th>dti</th>\n",
       "      <th>earliest_cr_line</th>\n",
       "      <th>emp_length</th>\n",
       "      <th>funded_amnt</th>\n",
       "      <th>funded_amnt_inv</th>\n",
       "      <th>grade</th>\n",
       "      <th>home_ownership</th>\n",
       "      <th>...</th>\n",
       "      <th>verification_status</th>\n",
       "      <th>zip_code</th>\n",
       "      <th>issue_d_year</th>\n",
       "      <th>issue_d_month</th>\n",
       "      <th>earliest_cr_line_year</th>\n",
       "      <th>earliest_cr_line_month</th>\n",
       "      <th>loan_amnt_range</th>\n",
       "      <th>annual_inc_range</th>\n",
       "      <th>dti_range</th>\n",
       "      <th>int_rate_range</th>\n",
       "    </tr>\n",
       "  </thead>\n",
       "  <tbody>\n",
       "    <tr>\n",
       "      <th>0</th>\n",
       "      <td>AZ</td>\n",
       "      <td>24000.0</td>\n",
       "      <td>0</td>\n",
       "      <td>27.65</td>\n",
       "      <td>1985-01-01</td>\n",
       "      <td>10</td>\n",
       "      <td>5000</td>\n",
       "      <td>4975.0</td>\n",
       "      <td>B</td>\n",
       "      <td>RENT</td>\n",
       "      <td>...</td>\n",
       "      <td>Verified</td>\n",
       "      <td>860xx</td>\n",
       "      <td>2011</td>\n",
       "      <td>Dec</td>\n",
       "      <td>1985</td>\n",
       "      <td>Jan</td>\n",
       "      <td>0-5000</td>\n",
       "      <td>0-25000</td>\n",
       "      <td>25%+</td>\n",
       "      <td>10-12.5</td>\n",
       "    </tr>\n",
       "    <tr>\n",
       "      <th>1</th>\n",
       "      <td>GA</td>\n",
       "      <td>30000.0</td>\n",
       "      <td>0</td>\n",
       "      <td>1.00</td>\n",
       "      <td>1999-04-01</td>\n",
       "      <td>0</td>\n",
       "      <td>2500</td>\n",
       "      <td>2500.0</td>\n",
       "      <td>C</td>\n",
       "      <td>RENT</td>\n",
       "      <td>...</td>\n",
       "      <td>Source Verified</td>\n",
       "      <td>309xx</td>\n",
       "      <td>2011</td>\n",
       "      <td>Dec</td>\n",
       "      <td>1999</td>\n",
       "      <td>Apr</td>\n",
       "      <td>0-5000</td>\n",
       "      <td>25000-50000</td>\n",
       "      <td>0-5%</td>\n",
       "      <td>15+</td>\n",
       "    </tr>\n",
       "    <tr>\n",
       "      <th>2</th>\n",
       "      <td>IL</td>\n",
       "      <td>12252.0</td>\n",
       "      <td>0</td>\n",
       "      <td>8.72</td>\n",
       "      <td>2001-11-01</td>\n",
       "      <td>10</td>\n",
       "      <td>2400</td>\n",
       "      <td>2400.0</td>\n",
       "      <td>C</td>\n",
       "      <td>RENT</td>\n",
       "      <td>...</td>\n",
       "      <td>Not Verified</td>\n",
       "      <td>606xx</td>\n",
       "      <td>2011</td>\n",
       "      <td>Dec</td>\n",
       "      <td>2001</td>\n",
       "      <td>Nov</td>\n",
       "      <td>0-5000</td>\n",
       "      <td>0-25000</td>\n",
       "      <td>5-10%</td>\n",
       "      <td>15+</td>\n",
       "    </tr>\n",
       "    <tr>\n",
       "      <th>3</th>\n",
       "      <td>CA</td>\n",
       "      <td>49200.0</td>\n",
       "      <td>0</td>\n",
       "      <td>20.00</td>\n",
       "      <td>1996-02-01</td>\n",
       "      <td>10</td>\n",
       "      <td>10000</td>\n",
       "      <td>10000.0</td>\n",
       "      <td>C</td>\n",
       "      <td>RENT</td>\n",
       "      <td>...</td>\n",
       "      <td>Source Verified</td>\n",
       "      <td>917xx</td>\n",
       "      <td>2011</td>\n",
       "      <td>Dec</td>\n",
       "      <td>1996</td>\n",
       "      <td>Feb</td>\n",
       "      <td>5000-10000</td>\n",
       "      <td>25000-50000</td>\n",
       "      <td>15-20%</td>\n",
       "      <td>12.5-15</td>\n",
       "    </tr>\n",
       "    <tr>\n",
       "      <th>5</th>\n",
       "      <td>AZ</td>\n",
       "      <td>36000.0</td>\n",
       "      <td>0</td>\n",
       "      <td>11.20</td>\n",
       "      <td>2004-11-01</td>\n",
       "      <td>3</td>\n",
       "      <td>5000</td>\n",
       "      <td>5000.0</td>\n",
       "      <td>A</td>\n",
       "      <td>RENT</td>\n",
       "      <td>...</td>\n",
       "      <td>Source Verified</td>\n",
       "      <td>852xx</td>\n",
       "      <td>2011</td>\n",
       "      <td>Dec</td>\n",
       "      <td>2004</td>\n",
       "      <td>Nov</td>\n",
       "      <td>0-5000</td>\n",
       "      <td>25000-50000</td>\n",
       "      <td>10-15%</td>\n",
       "      <td>7.5-10</td>\n",
       "    </tr>\n",
       "  </tbody>\n",
       "</table>\n",
       "<p>5 rows × 44 columns</p>\n",
       "</div>"
      ],
      "text/plain": [
       "  addr_state  annual_inc  delinq_2yrs    dti earliest_cr_line  emp_length  \\\n",
       "0         AZ     24000.0            0  27.65       1985-01-01          10   \n",
       "1         GA     30000.0            0   1.00       1999-04-01           0   \n",
       "2         IL     12252.0            0   8.72       2001-11-01          10   \n",
       "3         CA     49200.0            0  20.00       1996-02-01          10   \n",
       "5         AZ     36000.0            0  11.20       2004-11-01           3   \n",
       "\n",
       "   funded_amnt  funded_amnt_inv grade home_ownership  ...  \\\n",
       "0         5000           4975.0     B           RENT  ...   \n",
       "1         2500           2500.0     C           RENT  ...   \n",
       "2         2400           2400.0     C           RENT  ...   \n",
       "3        10000          10000.0     C           RENT  ...   \n",
       "5         5000           5000.0     A           RENT  ...   \n",
       "\n",
       "   verification_status  zip_code  issue_d_year issue_d_month  \\\n",
       "0             Verified     860xx          2011           Dec   \n",
       "1      Source Verified     309xx          2011           Dec   \n",
       "2         Not Verified     606xx          2011           Dec   \n",
       "3      Source Verified     917xx          2011           Dec   \n",
       "5      Source Verified     852xx          2011           Dec   \n",
       "\n",
       "  earliest_cr_line_year  earliest_cr_line_month loan_amnt_range  \\\n",
       "0                  1985                     Jan          0-5000   \n",
       "1                  1999                     Apr          0-5000   \n",
       "2                  2001                     Nov          0-5000   \n",
       "3                  1996                     Feb      5000-10000   \n",
       "5                  2004                     Nov          0-5000   \n",
       "\n",
       "   annual_inc_range  dti_range  int_rate_range  \n",
       "0           0-25000       25%+         10-12.5  \n",
       "1       25000-50000       0-5%             15+  \n",
       "2           0-25000      5-10%             15+  \n",
       "3       25000-50000     15-20%         12.5-15  \n",
       "5       25000-50000     10-15%          7.5-10  \n",
       "\n",
       "[5 rows x 44 columns]"
      ]
     },
     "execution_count": 57,
     "metadata": {},
     "output_type": "execute_result"
    }
   ],
   "source": [
    "loan.head()"
   ]
  },
  {
   "cell_type": "markdown",
   "id": "c8059a6d",
   "metadata": {},
   "source": [
    "## <font color=blue><u> EDA - Visualizations and Observations\n",
    "\n",
    "## <font color=blue><u><b> Univariate Analysis\n",
    "    \n",
    "### <font color=blue>Visualize the loan status through countplot "
   ]
  },
  {
   "cell_type": "code",
   "execution_count": 62,
   "id": "1218b6d0",
   "metadata": {},
   "outputs": [
    {
     "data": {
      "image/png": "[encoded data removed]",
      "text/plain": [
       "<Figure size 1008x288 with 1 Axes>"
      ]
     },
     "metadata": {
      "needs_background": "light"
     },
     "output_type": "display_data"
    }
   ],
   "source": [
    "# check for amount of defaults in the data using countplot\n",
    "\n",
    "plt.figure(figsize=(14,4))\n",
    "ax = sns.countplot(x=\"loan_status\", data=loan)\n",
    "abs_values = loan['loan_status'].value_counts(ascending=False).values\n",
    "ax.bar_label(container=ax.containers[0], labels=abs_values)\n",
    "plt.show()\n"
   ]
  },
  {
   "cell_type": "markdown",
   "id": "652413c7",
   "metadata": {},
   "source": [
    "<b>Observation:</b> Defaulted loans a.k.a <b>Charged Off loans are less when compared to Fully paid loans"
   ]
  },
  {
   "cell_type": "markdown",
   "id": "9f04bb0c",
   "metadata": {},
   "source": [
    "### <font color = blue>Visualize defaulters group by loan term"
   ]
  },
  {
   "cell_type": "code",
   "execution_count": 63,
   "id": "9dfeaf6b",
   "metadata": {},
   "outputs": [
    {
     "data": {
      "image/png": "[encoded data removed]",
      "text/plain": [
       "<Figure size 720x432 with 1 Axes>"
      ]
     },
     "metadata": {
      "needs_background": "light"
     },
     "output_type": "display_data"
    }
   ],
   "source": [
    "# Generate barplot to find the defaulters ratio by the loan term\n",
    "\n",
    "plt.figure(figsize=(10, 6))\n",
    "ax = sns.barplot(x=\"term\", y='loan_status', data=loan)\n",
    "plt.title(\"Loan Defaults wrt TERM\")\n",
    "plt.xlabel(\"Term\", fontsize=16)\n",
    "plt.ylabel(\"Defaulter ratio\", fontsize=16)\n",
    "plt.show()"
   ]
  },
  {
   "cell_type": "markdown",
   "id": "03797517",
   "metadata": {},
   "source": [
    "<b> Observation: When compared to 36 months tenure, 60 months term loans are more defaulted."
   ]
  },
  {
   "cell_type": "markdown",
   "id": "b62fcb37",
   "metadata": {},
   "source": [
    "### <font color = blue>Visualize Loan Status by Grade"
   ]
  },
  {
   "cell_type": "code",
   "execution_count": 65,
   "id": "89707b3e",
   "metadata": {},
   "outputs": [
    {
     "data": {
      "image/png": "[encoded data removed]",
      "text/plain": [
       "<Figure size 432x288 with 1 Axes>"
      ]
     },
     "metadata": {
      "needs_background": "light"
     },
     "output_type": "display_data"
    }
   ],
   "source": [
    "# Generate stacked bar plot for Loan status by its grade\n",
    "\n",
    "ctab = pd.crosstab(loan['grade'], loan['loan_status'], normalize='index')\n",
    "ctab.plot(kind='bar', stacked=True)\n",
    "plt.xlabel('Loan Grade')\n",
    "plt.ylabel('Range')\n",
    "plt.title('Loan Status by its Grade')\n",
    "plt.show()"
   ]
  },
  {
   "cell_type": "markdown",
   "id": "a35a8890",
   "metadata": {},
   "source": [
    "<b> Observation:</b> Loans with LOW grades (towards grade A) are resulting into highly probable fully paid loans. <p> Loans with HIGH grades (towards grade G) are highly potential as \"Defaulted\"."
   ]
  },
  {
   "cell_type": "markdown",
   "id": "55e34b80",
   "metadata": {},
   "source": [
    "### <font color=Blue>Generate graph ONLY with defaulted loans (%) by \"sub Grades\""
   ]
  },
  {
   "cell_type": "code",
   "execution_count": 66,
   "id": "2f3898a0",
   "metadata": {},
   "outputs": [
    {
     "data": {
      "image/png": "[encoded data removed]",
      "text/plain": [
       "<Figure size 720x360 with 1 Axes>"
      ]
     },
     "metadata": {
      "needs_background": "light"
     },
     "output_type": "display_data"
    }
   ],
   "source": [
    "# Plot the bar graph to find spread of defaulter's % by their sub_grade\n",
    "\n",
    "plt.figure(figsize=(10,5))\n",
    "feature_dimension = sorted(loan[\"sub_grade\"].unique())\n",
    "feature_values = []\n",
    "for fd in feature_dimension:\n",
    "    feature_filter = loan[loan[\"sub_grade\"]==fd]\n",
    "    feature_count = len(feature_filter[feature_filter[\"loan_status\"]==1])\n",
    "    feature_values.append(feature_count*100/feature_filter[\"loan_status\"].count())\n",
    "plt.bar(feature_dimension, feature_values, color='orange', edgecolor='white')\n",
    "plt.title(\"Loan Defaults wrt sub_grade feature - countplot\")\n",
    "plt.xlabel(\"sub_grade\", fontsize=16)\n",
    "plt.ylabel(\"Defaulter %\", fontsize=16)\n",
    "plt.show()\n"
   ]
  },
  {
   "cell_type": "markdown",
   "id": "ba7eff27",
   "metadata": {},
   "source": [
    "<b> Observation:</b> Loan Sub Grades dimension is a great indicative and Defaulted loans are gradually increasing from A1 towards G5 sub grade. "
   ]
  },
  {
   "cell_type": "markdown",
   "id": "159c279b",
   "metadata": {},
   "source": [
    "### <font color=Blue>Generate graph ONLY with defaulted loans (%) as per applicant's home ownership status."
   ]
  },
  {
   "cell_type": "code",
   "execution_count": 67,
   "id": "92ede5e5",
   "metadata": {},
   "outputs": [
    {
     "data": {
      "image/png": "[encoded data removed]",
      "text/plain": [
       "<Figure size 720x360 with 1 Axes>"
      ]
     },
     "metadata": {
      "needs_background": "light"
     },
     "output_type": "display_data"
    }
   ],
   "source": [
    "# Generate graph to find out how defaulter's % by enumeration of Home Ownership values? \n",
    "\n",
    "plt.figure(figsize=(10,5))\n",
    "feature_dimension = sorted(loan[\"home_ownership\"].unique())\n",
    "feature_values = []\n",
    "for fd in feature_dimension:\n",
    "    feature_filter = loan[loan[\"home_ownership\"]==fd]\n",
    "    feature_count = len(feature_filter[feature_filter[\"loan_status\"]==1])\n",
    "    feature_values.append(feature_count*100/feature_filter[\"loan_status\"].count())\n",
    "plt.bar(feature_dimension, feature_values, color='orange', edgecolor='white')\n",
    "plt.title(\"Loan Defaults by applicants who owned house\")\n",
    "plt.xlabel(\"Home Ownership\", fontsize=16)\n",
    "plt.ylabel(\"Defaulter %\", fontsize=16)\n",
    "plt.show()"
   ]
  },
  {
   "cell_type": "markdown",
   "id": "d6ddec50",
   "metadata": {},
   "source": [
    "<b> Observation:</b> Home ownership dimension is <b><u>not helpful to find any risk trends</u></b> as we observe defaulted loans in every category of home ownership. "
   ]
  },
  {
   "cell_type": "markdown",
   "id": "2d154691",
   "metadata": {},
   "source": [
    "### <font color=Blue>Generate graph ONLY with defaulted loans (%) basing on applicant's Verification Status."
   ]
  },
  {
   "cell_type": "code",
   "execution_count": 69,
   "id": "2b64ed3b",
   "metadata": {},
   "outputs": [
    {
     "data": {
      "image/png": "[encoded data removed]",
      "text/plain": [
       "<Figure size 720x360 with 1 Axes>"
      ]
     },
     "metadata": {
      "needs_background": "light"
     },
     "output_type": "display_data"
    }
   ],
   "source": [
    "# Generate graph to find out how defaulter's % by verification status values? \n",
    "\n",
    "plt.figure(figsize=(10,5))\n",
    "feature_dimension = sorted(loan[\"verification_status\"].unique())\n",
    "feature_values = []\n",
    "for fd in feature_dimension:\n",
    "    feature_filter = loan[loan[\"verification_status\"]==fd]\n",
    "    feature_count = len(feature_filter[feature_filter[\"loan_status\"]==1])\n",
    "    feature_values.append(feature_count*100/feature_filter[\"loan_status\"].count())\n",
    "plt.bar(feature_dimension, feature_values, color='orange', edgecolor='white')\n",
    "plt.title(\"Loan Defaults ratio as per applicant's verification status\")\n",
    "plt.xlabel(\"Verification Status\", fontsize=16)\n",
    "plt.ylabel(\"Defaulter %\", fontsize=16)\n",
    "plt.show()"
   ]
  },
  {
   "cell_type": "markdown",
   "id": "48332571",
   "metadata": {},
   "source": [
    "<b> Observation:</b> Similar to Home ownership dimension observation, Verification Status is also <b><u>not helpful to find any risk trends</u></b> as we observe defaulted loans in every category of this dimension. "
   ]
  },
  {
   "cell_type": "markdown",
   "id": "3afbf148",
   "metadata": {},
   "source": [
    "### <font color=Blue>Graph to show the loan amount distribution range and find any risk indicators?"
   ]
  },
  {
   "cell_type": "code",
   "execution_count": 71,
   "id": "6a064ed5",
   "metadata": {},
   "outputs": [
    {
     "data": {
      "text/plain": [
       "<AxesSubplot:xlabel='loan_amnt_range', ylabel='count'>"
      ]
     },
     "execution_count": 71,
     "metadata": {},
     "output_type": "execute_result"
    },
    {
     "data": {
      "image/png": "[encoded data removed]",
      "text/plain": [
       "<Figure size 720x360 with 1 Axes>"
      ]
     },
     "metadata": {
      "needs_background": "light"
     },
     "output_type": "display_data"
    }
   ],
   "source": [
    "#Generate graph for loan amount range.\n",
    "\n",
    "plt.figure(figsize=(10,5))\n",
    "sns.countplot(x='loan_amnt_range', data=loan)"
   ]
  },
  {
   "cell_type": "code",
   "execution_count": 72,
   "id": "27de54ce",
   "metadata": {},
   "outputs": [
    {
     "data": {
      "image/png": "[encoded data removed]",
      "text/plain": [
       "<Figure size 720x360 with 1 Axes>"
      ]
     },
     "metadata": {
      "needs_background": "light"
     },
     "output_type": "display_data"
    }
   ],
   "source": [
    "#Generate graph to show defaulter % by the respective loan amount range \n",
    "\n",
    "plt.figure(figsize=(10,5))\n",
    "feature_dimension = sorted(loan[\"loan_amnt_range\"].unique())\n",
    "feature_values = []\n",
    "for fd in feature_dimension:\n",
    "    feature_filter = loan[loan[\"loan_amnt_range\"]==fd]\n",
    "    feature_count = len(feature_filter[feature_filter[\"loan_status\"]==1])\n",
    "    feature_values.append(feature_count*100/feature_filter[\"loan_status\"].count())\n",
    "plt.bar(feature_dimension, feature_values, color='orange', edgecolor='white')\n",
    "plt.title(\"Loan Defaults ratio spread across loan_amnt_range\")\n",
    "plt.xlabel(\"Loan Amount Range\", fontsize=16)\n",
    "plt.ylabel(\"Defaulter %\", fontsize=16)\n",
    "plt.show()"
   ]
  },
  {
   "cell_type": "markdown",
   "id": "59cead73",
   "metadata": {},
   "source": [
    "<b> Observation: </b> <br> Majority of the loans given in the range of 5k to 10k. But, <b>we observe defaulters are spread across every range, though 25k+ is dominated followed by 15k-20k and 20k to 25k range. Hence, <b>this Loan Amount Range doesn't give any specific clear risk indicator</b> "
   ]
  },
  {
   "cell_type": "markdown",
   "id": "b05562d4",
   "metadata": {},
   "source": [
    "### <font color=blue> Defaulted Loans Amount Range spread"
   ]
  },
  {
   "cell_type": "code",
   "execution_count": 74,
   "id": "67dc87d5",
   "metadata": {},
   "outputs": [],
   "source": [
    "#Create a dataset with only defaulted loans data\n",
    "\n",
    "defaulted_loans=loan[(loan[\"loan_status\"]==1)]"
   ]
  },
  {
   "cell_type": "code",
   "execution_count": 76,
   "id": "91928bce",
   "metadata": {},
   "outputs": [
    {
     "data": {
      "text/plain": [
       "Text(0.5, 1.0, 'Defaulted Loan Amount spread')"
      ]
     },
     "execution_count": 76,
     "metadata": {},
     "output_type": "execute_result"
    },
    {
     "data": {
      "image/png": "[encoded data removed]",
      "text/plain": [
       "<Figure size 432x288 with 1 Axes>"
      ]
     },
     "metadata": {},
     "output_type": "display_data"
    }
   ],
   "source": [
    "# Generate a pie chart with loan amount range values and % of its spread. \n",
    "\n",
    "defaulted_loans['loan_amnt_range'].value_counts().plot(kind='pie', autopct='%2.2f%%')\n",
    "plt.title('Defaulted Loan Amount spread')"
   ]
  },
  {
   "cell_type": "markdown",
   "id": "c8e18d4e",
   "metadata": {},
   "source": [
    "<b>Observation:</b> <br><b>Loan amount 5k-10k range is dominated followed by 0-5k and 10k-15k"
   ]
  },
  {
   "cell_type": "markdown",
   "id": "43fdb000",
   "metadata": {},
   "source": [
    "### <font color=blue> Defaulted Loans spread across Loan Interest range"
   ]
  },
  {
   "cell_type": "code",
   "execution_count": 77,
   "id": "e12dfd0a",
   "metadata": {},
   "outputs": [
    {
     "data": {
      "image/png": "[encoded data removed]",
      "text/plain": [
       "<Figure size 576x360 with 1 Axes>"
      ]
     },
     "metadata": {
      "needs_background": "light"
     },
     "output_type": "display_data"
    }
   ],
   "source": [
    "#Generate graph to show defaulter % by the respective loan Interest Rate range \n",
    "\n",
    "plt.figure(figsize=(8,5))\n",
    "feature_dimension = sorted(loan[\"int_rate_range\"].unique())\n",
    "feature_values = []\n",
    "for fd in feature_dimension:\n",
    "    feature_filter = loan[loan[\"int_rate_range\"]==fd]\n",
    "    feature_count = len(feature_filter[feature_filter[\"loan_status\"]==1])\n",
    "    feature_values.append(feature_count*100/feature_filter[\"loan_status\"].count())\n",
    "plt.bar(feature_dimension, feature_values, color='orange', edgecolor='white')\n",
    "plt.title(\"Loan Defaults ratio spread across Loan Interest Rate range\")\n",
    "plt.xlabel(\"Loan Interest Rate Range\", fontsize=16)\n",
    "plt.ylabel(\"Defaulter %\", fontsize=16)\n",
    "plt.show()"
   ]
  },
  {
   "cell_type": "markdown",
   "id": "f7f58121",
   "metadata": {},
   "source": [
    "<b>Observation:</b> Rate of Interest seems <b>directly proportional to get the loan defaulted as we observe highest rate of interest is having more number of defaulters</b>. <p><b>Lowest defaulters' loan interest rate is between 0 to 7.5, while highest is at 15+ rate of interest.<p>\n",
    "Largest chunk of defaulters interest rate is above 12.5."
   ]
  },
  {
   "cell_type": "markdown",
   "id": "bc254209",
   "metadata": {},
   "source": [
    "### <font color=blue> Defaulted Loans spread across various Annual Income Range"
   ]
  },
  {
   "cell_type": "code",
   "execution_count": 363,
   "id": "2c149d8f",
   "metadata": {},
   "outputs": [
    {
     "data": {
      "image/png": "[encoded data removed]",
      "text/plain": [
       "<Figure size 576x360 with 1 Axes>"
      ]
     },
     "metadata": {
      "needs_background": "light"
     },
     "output_type": "display_data"
    }
   ],
   "source": [
    "#Generate graph to show defaulter % by the respective loan Applicant's Annual Income Range \n",
    "\n",
    "plt.figure(figsize=(8,5))\n",
    "feature_dimension = sorted(loan[\"annual_inc_range\"].unique())\n",
    "feature_values = []\n",
    "for fd in feature_dimension:\n",
    "    feature_filter = loan[loan[\"annual_inc_range\"]==fd]\n",
    "    feature_count = len(feature_filter[feature_filter[\"loan_status\"]==1])\n",
    "    feature_values.append(feature_count*100/feature_filter[\"loan_status\"].count())\n",
    "plt.bar(feature_dimension, feature_values, color='orange', edgecolor='white')\n",
    "plt.title(\"Loan Defaults ratio as per Loan Applicant's Annual Income Range\")\n",
    "plt.xlabel(\"Loan Applicant's Annual Income Range\", fontsize=16)\n",
    "plt.ylabel(\"Defaulter %\", fontsize=16)\n",
    "plt.show()"
   ]
  },
  {
   "cell_type": "markdown",
   "id": "d794b1b8",
   "metadata": {},
   "source": [
    "<b>Observation:</b> We have Defaulters spread across every range of applicant's annual income. So, <b><u>this annual income range dimension is not a dominating factor to realize defaulted loans</u></B>. <p>Not a potential risk indicator   "
   ]
  },
  {
   "cell_type": "markdown",
   "id": "79cbb5eb",
   "metadata": {},
   "source": [
    "### <font color=blue> Defaulted Loans spread across various DTI Range"
   ]
  },
  {
   "cell_type": "code",
   "execution_count": 78,
   "id": "daaa18a7",
   "metadata": {},
   "outputs": [
    {
     "data": {
      "image/png": "[encoded data removed]",
      "text/plain": [
       "<Figure size 576x360 with 1 Axes>"
      ]
     },
     "metadata": {
      "needs_background": "light"
     },
     "output_type": "display_data"
    }
   ],
   "source": [
    "#Generate graph to show defaulter % by the respective loan Applicant's DTI Range \n",
    "\n",
    "plt.figure(figsize=(8,5))\n",
    "feature_dimension = sorted(loan[\"dti_range\"].unique())\n",
    "feature_values = []\n",
    "for fd in feature_dimension:\n",
    "    feature_filter = loan[loan[\"dti_range\"]==fd]\n",
    "    feature_count = len(feature_filter[feature_filter[\"loan_status\"]==1])\n",
    "    feature_values.append(feature_count*100/feature_filter[\"loan_status\"].count())\n",
    "plt.bar(feature_dimension, feature_values, color='orange', edgecolor='white')\n",
    "plt.title(\"Loan Defaults ratio as per Loan Applicant's DTI Range\")\n",
    "plt.xlabel(\"Loan Applicant's DTI Range\", fontsize=16)\n",
    "plt.ylabel(\"Defaulter %\", fontsize=16)\n",
    "plt.show()"
   ]
  },
  {
   "cell_type": "markdown",
   "id": "a699d83f",
   "metadata": {},
   "source": [
    "<b>Observation:</b> We have Defaulters spread across every range of applicant's DTI. So, <b><u>this DTI range dimension is not a dominating factor to realize defaulted loans</u></B>. <p>Not a potential risk indicator   "
   ]
  },
  {
   "cell_type": "markdown",
   "id": "43f5ffdc",
   "metadata": {},
   "source": [
    "### <font color=blue> Defaulted Loans across various \"loan purposes\" being called out while applying the loan"
   ]
  },
  {
   "cell_type": "code",
   "execution_count": 81,
   "id": "3ec6007d",
   "metadata": {},
   "outputs": [
    {
     "data": {
      "text/plain": [
       "<AxesSubplot:xlabel='count', ylabel='purpose'>"
      ]
     },
     "execution_count": 81,
     "metadata": {},
     "output_type": "execute_result"
    },
    {
     "data": {
      "image/png": "[encoded data removed]",
      "text/plain": [
       "<Figure size 432x288 with 1 Axes>"
      ]
     },
     "metadata": {
      "needs_background": "light"
     },
     "output_type": "display_data"
    }
   ],
   "source": [
    "# Generate counterplot on loan purpose\n",
    "\n",
    "sns.countplot(y=loan.purpose)"
   ]
  },
  {
   "cell_type": "code",
   "execution_count": 82,
   "id": "db0a27d1",
   "metadata": {},
   "outputs": [
    {
     "data": {
      "text/plain": [
       "<AxesSubplot:xlabel='count', ylabel='purpose'>"
      ]
     },
     "execution_count": 82,
     "metadata": {},
     "output_type": "execute_result"
    },
    {
     "data": {
      "image/png": "[encoded data removed]",
      "text/plain": [
       "<Figure size 432x288 with 1 Axes>"
      ]
     },
     "metadata": {
      "needs_background": "light"
     },
     "output_type": "display_data"
    }
   ],
   "source": [
    "# Generate counterplot on \"defaulted loans' purpose\"\n",
    "\n",
    "sns.countplot(y=defaulted_loans.purpose)"
   ]
  },
  {
   "cell_type": "markdown",
   "id": "bda4dc43",
   "metadata": {},
   "source": [
    "<b>Observation:</b><br> Very clear indication that <b>\"DEBT CONSOLIDATION\" purpose is dominated need for applying loans and the same is acting as major cause to have defaulted loans</b>. <p><p><b> So, this is an important risk indicator to secure from defaulted loans</b>"
   ]
  },
  {
   "cell_type": "markdown",
   "id": "40260863",
   "metadata": {},
   "source": [
    "### <font color=blue> Generate crosstab on Loan Grade by Purpose"
   ]
  },
  {
   "cell_type": "code",
   "execution_count": 83,
   "id": "14062a3b",
   "metadata": {},
   "outputs": [
    {
     "data": {
      "image/png": "[encoded data removed]",
      "text/plain": [
       "<Figure size 432x288 with 1 Axes>"
      ]
     },
     "metadata": {
      "needs_background": "light"
     },
     "output_type": "display_data"
    }
   ],
   "source": [
    "#Loan grade by purpose\n",
    "\n",
    "crosstab = pd.crosstab(loan['purpose'], loan['grade'], normalize='index')\n",
    "ax = crosstab.plot(kind='bar', stacked=True)\n",
    "ax.set_xlabel('Loan Purpose')\n",
    "ax.set_ylabel('Range')\n",
    "ax.set_title('Loan Grade by Purpose')\n",
    "ax.legend(loc='lower left', bbox_to_anchor=(0, 1))\n",
    "plt.show()"
   ]
  },
  {
   "cell_type": "markdown",
   "id": "9548be0e",
   "metadata": {},
   "source": [
    "<b> Observation: </b><br>\n",
    "The above stacked bar chart depicts loan purpose and grade it belongs to.\n",
    "\n",
    "As mentioned in above, <b>Debt consolidation</b> need is the most dominant purpose to apply loans.\n",
    "\n",
    "Across any loan purpose, <b>majority is contributed from Grades A, B, and C</b>. \n",
    "\n",
    "Loans for credit card payments is highest in the E and F loan grades, while the proportion of loans for home improvement and small business are highest in the G loan grade.\n",
    "\n",
    "<b>These are very important risk factors to consider while underwriters are analyzing the loan application and taking the final decision. They may have to increase the interest rate to mitigate risks based on the purpose they apply for loan. </b>"
   ]
  },
  {
   "cell_type": "markdown",
   "id": "176aeec7",
   "metadata": {},
   "source": [
    "### <font color=blue> Find out the behavior of loan status as per applicant's employment tenure"
   ]
  },
  {
   "cell_type": "code",
   "execution_count": 84,
   "id": "1be2f017",
   "metadata": {},
   "outputs": [
    {
     "data": {
      "image/png": "[encoded data removed]",
      "text/plain": [
       "<Figure size 432x288 with 1 Axes>"
      ]
     },
     "metadata": {
      "needs_background": "light"
     },
     "output_type": "display_data"
    }
   ],
   "source": [
    "#Generate graph to find the behavior of loan status based on applicant's Employment Tenure\n",
    "\n",
    "sns.countplot(data=loan, x='emp_length', hue='loan_status')\n",
    "plt.show()"
   ]
  },
  {
   "cell_type": "markdown",
   "id": "391c3da0",
   "metadata": {},
   "source": [
    "<b>Observation:</b><br>\n",
    "Clearly evident that <b>10 and above experienced applicant's are becoming defaulters on their loans</b>. So, Financial institutions need to observe closely before they approve the loan."
   ]
  },
  {
   "cell_type": "markdown",
   "id": "76128a79",
   "metadata": {},
   "source": [
    "### <b><u><font color = blue>Bivariate Analysis"
   ]
  },
  {
   "cell_type": "markdown",
   "id": "44115142",
   "metadata": {},
   "source": [
    "### <font color=blue>Generate Box plot between Loan Status and Interest Rate for each Loan Purpose"
   ]
  },
  {
   "cell_type": "code",
   "execution_count": 86,
   "id": "dee870cd",
   "metadata": {},
   "outputs": [
    {
     "data": {
      "image/png": "[encoded data removed]",
      "text/plain": [
       "<Figure size 1152x432 with 1 Axes>"
      ]
     },
     "metadata": {
      "needs_background": "light"
     },
     "output_type": "display_data"
    },
    {
     "data": {
      "text/plain": [
       "<Figure size 1152x576 with 0 Axes>"
      ]
     },
     "execution_count": 86,
     "metadata": {},
     "output_type": "execute_result"
    },
    {
     "data": {
      "text/plain": [
       "<Figure size 1152x576 with 0 Axes>"
      ]
     },
     "metadata": {},
     "output_type": "display_data"
    }
   ],
   "source": [
    "# Generate box plot for loan_status vs int_rate for each purpose\n",
    "\n",
    "plt.figure(figsize=(16,6))\n",
    "sns.boxplot(x=\"loan_status\", y=\"int_rate\", data=loan, hue=\"purpose\", order=sorted(loan[\"loan_status\"].unique()))\n",
    "plt.title(\"Box plot between loan status and interest rate for each purpose\")\n",
    "plt.xlabel(\"loan_status\", fontsize=16)\n",
    "plt.ylabel(\"int_rate\", fontsize=16)\n",
    "plt.show()\n",
    "plt.figure(figsize=(16,8))"
   ]
  },
  {
   "cell_type": "markdown",
   "id": "c9bf2c96",
   "metadata": {},
   "source": [
    "<b> Observation:</b> <br>\n",
    "Most importantly, <b>If loan Interest rate increases, then corresponding loan may potentially get defaulted.</b> This scenario seems valid for any kind of loan purpose.\n",
    "\n",
    "So, it is critical for companies not just simply increase the Rate of Interest (RoI) to mitigate the risk, which may deviate their hypothesis and lead towards facing high number of defaulted loans."
   ]
  },
  {
   "cell_type": "markdown",
   "id": "a5ff27b0",
   "metadata": {},
   "source": [
    "### <font color=blue>Generate Box plot between Loan Status and Grade for each Interest Rate"
   ]
  },
  {
   "cell_type": "code",
   "execution_count": 87,
   "id": "a74da070",
   "metadata": {},
   "outputs": [
    {
     "data": {
      "image/png": "[encoded data removed]",
      "text/plain": [
       "<Figure size 1152x432 with 1 Axes>"
      ]
     },
     "metadata": {
      "needs_background": "light"
     },
     "output_type": "display_data"
    },
    {
     "data": {
      "text/plain": [
       "<Figure size 1152x576 with 0 Axes>"
      ]
     },
     "execution_count": 87,
     "metadata": {},
     "output_type": "execute_result"
    },
    {
     "data": {
      "text/plain": [
       "<Figure size 1152x576 with 0 Axes>"
      ]
     },
     "metadata": {},
     "output_type": "display_data"
    }
   ],
   "source": [
    "# plot box for loan_status vs int_rate for each purpose\n",
    "\n",
    "plt.figure(figsize=(16,6))\n",
    "sns.boxplot(x=\"grade\", y=\"int_rate\", data=loan, hue=\"loan_status\", order=sorted(loan[\"grade\"].unique()))\n",
    "plt.title(\"Box plot between loan status and interest rate for each grade\")\n",
    "plt.xlabel(\"Grade\", fontsize=16)\n",
    "plt.ylabel(\"Interest Rate\", fontsize=16)\n",
    "plt.show()\n",
    "plt.figure(figsize=(16,8))"
   ]
  },
  {
   "cell_type": "markdown",
   "id": "e0d00e0d",
   "metadata": {},
   "source": [
    "<b> Observation:</b> <br>\n",
    "Grade and Interest rate are proportional which leads to face high number of defaulters.\n",
    "<b>Interest rate is increasing for every grade and also the defaulters for every grade are having their median near the non-defaulter 75% quantile of int_rate. </b>"
   ]
  },
  {
   "cell_type": "markdown",
   "id": "24ad1aaf",
   "metadata": {},
   "source": [
    "### <font color=blue>Generate Box plot between Home Ownership and Loan Amount for Loan Status"
   ]
  },
  {
   "cell_type": "code",
   "execution_count": 384,
   "id": "c058a58c",
   "metadata": {},
   "outputs": [
    {
     "data": {
      "image/png": "[encoded data removed]",
      "text/plain": [
       "<Figure size 1440x576 with 1 Axes>"
      ]
     },
     "metadata": {
      "needs_background": "light"
     },
     "output_type": "display_data"
    }
   ],
   "source": [
    "#Home ownership vs loan amount vs loan status\n",
    "plt.figure(figsize=(20,8))\n",
    "sns.boxplot(x='home_ownership', y='loan_amnt', hue='loan_status', data=loan)\n",
    "plt.legend(loc='center left', bbox_to_anchor=(1, 0.5))\n",
    "plt.show()"
   ]
  },
  {
   "cell_type": "markdown",
   "id": "4c6b6c13",
   "metadata": {},
   "source": [
    "<b> Observation:</b> <br>\n",
    "Out of all types of Home Ownership, <b>loan applicants who has Mortgage are taking high amount as loan and also, they are potential  defaulters too</b>. "
   ]
  },
  {
   "cell_type": "markdown",
   "id": "fa10c1cc",
   "metadata": {},
   "source": [
    "### <u><font color=blue>Correlation Analysis (Multivariate)"
   ]
  },
  {
   "cell_type": "code",
   "execution_count": 88,
   "id": "9496ea90",
   "metadata": {},
   "outputs": [
    {
     "name": "stdout",
     "output_type": "stream",
     "text": [
      "<class 'pandas.core.frame.DataFrame'>\n",
      "Int64Index: 35194 entries, 0 to 39716\n",
      "Data columns (total 44 columns):\n",
      " #   Column                  Non-Null Count  Dtype         \n",
      "---  ------                  --------------  -----         \n",
      " 0   addr_state              35194 non-null  object        \n",
      " 1   annual_inc              35194 non-null  float64       \n",
      " 2   delinq_2yrs             35194 non-null  int64         \n",
      " 3   dti                     35194 non-null  float64       \n",
      " 4   earliest_cr_line        35194 non-null  datetime64[ns]\n",
      " 5   emp_length              35194 non-null  int64         \n",
      " 6   funded_amnt             35194 non-null  int64         \n",
      " 7   funded_amnt_inv         35194 non-null  float64       \n",
      " 8   grade                   35194 non-null  object        \n",
      " 9   home_ownership          35194 non-null  object        \n",
      " 10  inq_last_6mths          35194 non-null  int64         \n",
      " 11  installment             35194 non-null  float64       \n",
      " 12  int_rate                35194 non-null  float64       \n",
      " 13  issue_d                 35194 non-null  datetime64[ns]\n",
      " 14  last_credit_pull_d      35192 non-null  object        \n",
      " 15  last_pymnt_amnt         35194 non-null  float64       \n",
      " 16  last_pymnt_d            35133 non-null  object        \n",
      " 17  loan_amnt               35194 non-null  int64         \n",
      " 18  loan_status             35194 non-null  int32         \n",
      " 19  open_acc                35194 non-null  int64         \n",
      " 20  out_prncp               35194 non-null  float64       \n",
      " 21  out_prncp_inv           35194 non-null  float64       \n",
      " 22  pub_rec                 35194 non-null  int64         \n",
      " 23  purpose                 35194 non-null  object        \n",
      " 24  recoveries              35194 non-null  float64       \n",
      " 25  revol_bal               35194 non-null  int64         \n",
      " 26  revol_util              35152 non-null  object        \n",
      " 27  sub_grade               35194 non-null  object        \n",
      " 28  term                    35194 non-null  object        \n",
      " 29  total_acc               35194 non-null  int64         \n",
      " 30  total_pymnt             35194 non-null  float64       \n",
      " 31  total_rec_int           35194 non-null  float64       \n",
      " 32  total_rec_late_fee      35194 non-null  float64       \n",
      " 33  total_rec_prncp         35194 non-null  float64       \n",
      " 34  verification_status     35194 non-null  object        \n",
      " 35  zip_code                35194 non-null  object        \n",
      " 36  issue_d_year            35194 non-null  int64         \n",
      " 37  issue_d_month           35194 non-null  object        \n",
      " 38  earliest_cr_line_year   35194 non-null  int64         \n",
      " 39  earliest_cr_line_month  35194 non-null  object        \n",
      " 40  loan_amnt_range         35194 non-null  category      \n",
      " 41  annual_inc_range        35194 non-null  category      \n",
      " 42  dti_range               35194 non-null  category      \n",
      " 43  int_rate_range          35194 non-null  category      \n",
      "dtypes: category(4), datetime64[ns](2), float64(13), int32(1), int64(11), object(13)\n",
      "memory usage: 11.0+ MB\n"
     ]
    }
   ],
   "source": [
    "loan.info()"
   ]
  },
  {
   "cell_type": "markdown",
   "id": "4bf8bb4f",
   "metadata": {},
   "source": [
    "### <font color = blue> Generate the heatmap among few associated columns from the loan dataset"
   ]
  },
  {
   "cell_type": "code",
   "execution_count": 90,
   "id": "af027c67",
   "metadata": {},
   "outputs": [
    {
     "data": {
      "image/png": "[encoded data removed]",
      "text/plain": [
       "<Figure size 1800x1080 with 2 Axes>"
      ]
     },
     "metadata": {
      "needs_background": "light"
     },
     "output_type": "display_data"
    }
   ],
   "source": [
    "# Generate the heat map for ['loan_amnt','funded_amnt_inv','annual_inc', 'dti', 'installment','pub_rec', 'emp_length','open_acc','int_rate_range', 'loan_status']\n",
    "\n",
    "plt.figure(figsize=(25,15))\n",
    "corr_df = loan[['loan_amnt','funded_amnt_inv','annual_inc', 'dti', 'installment','pub_rec', 'emp_length','open_acc','int_rate_range', 'loan_status']]\n",
    "sns.heatmap(corr_df.corr(), vmin=-1.0,vmax=1.0,annot=True, cmap=\"YlGnBu\")\n",
    "plt.show()"
   ]
  },
  {
   "cell_type": "markdown",
   "id": "86299217",
   "metadata": {},
   "source": [
    "<b> Observation\n",
    "\n",
    "<li>Highest positive correlation between loan_amnt, funded_amnt_inv and installment<br>\n",
    "<li>Negative correlation is between annual_inc and dti"
   ]
  },
  {
   "cell_type": "markdown",
   "id": "089f1f44",
   "metadata": {},
   "source": [
    "### Observation Summary:\n",
    "#### Univariate Analysis\n",
    "<ul><li>More than 70% of the loans are sanctioned for the term of 60 Months\n",
    "<li> Around 80% of the loans have been granted for loan amount range between 500 and 15K; this is the loan amount range where 3/4th of loans have been defaulted.\n",
    "<li>More interest rate will leads to get loan defaulted. Almost 50% of defaulted Loans are beyond 13% interest rate.\n",
    "<li>Loan Purpose as \"Debt Consolidation\" led to face significant loans defaulted than other purposes.\n",
    "\n",
    "#### Segmented Univariate Analysis<br>\n",
    "\n",
    "<li>\"High\" Loan Term led to face higher loan defaulters (60 months)\n",
    "<li> Applicants with employement length of 10+ years are mostly defaulters\n",
    "\n",
    "#### Bivariate Analysis\n",
    "\n",
    "<li>High Interest Rate is causing high defaulted loans across any loan term and loan amount. So, Financial institutions hiking interest rate may not be a solution to mitigate the risk on loan amount.\n",
    "<li>Home Ownership of loan applicant as \"mortgage\" taken high loan amount and have high default ratio; but, defaulted loans have  been spread across enumeration of home ownership values.\n",
    "\n",
    "#### Correlation Analysis\n",
    "\n",
    "As per heat map,\n",
    "<li>funded_amnt_inv, loan amount, installment, and annual income have a positive correlation\n",
    "<li>Annual Income and dti have negative correlation with loan status. \n",
    "\n",
    "Financial Institutions can get benefited with these kind of correlation analysis outcome and avoid/mitigate/minimize the impact of risk on the loans given to various kinds of applicants.\n",
    "    \n",
    "#### Recommendations\n",
    "\n",
    "As per the given source loan data, following are few factors / risk indicators which conveys potential loan default scenarios.\n",
    "<ol><li>High Interest Rate (beyond ~13%)\n",
    "<li>High Annual Income (35+ k range)\n",
    "<li>Long Term (60 months)\n",
    "<li>Loan purpose to consolidate debts and to replay credit card bills\n",
    "<li>High experienced loan applicants who are taking high amount (better to avoid to mitigate risk)\n",
    "</ol>\n",
    "\n",
    "So, in summary, Annual Income, Home Ownership, Purpose of Loan, Loan Amount, Interest Rate, and Loan Term are critical factors to be considered by Underwriters who perform Risk analysis and decide whether to reject the loan or grant the loan. "
   ]
  }
 ],
 "metadata": {
  "kernelspec": {
   "display_name": "Python 3 (ipykernel)",
   "language": "python",
   "name": "python3"
  },
  "language_info": {
   "codemirror_mode": {
    "name": "ipython",
    "version": 3
   },
   "file_extension": ".py",
   "mimetype": "text/x-python",
   "name": "python",
   "nbconvert_exporter": "python",
   "pygments_lexer": "ipython3",
   "version": "3.9.12"
  }
 },
 "nbformat": 4,
 "nbformat_minor": 5
}
